{
 "cells": [
  {
   "cell_type": "markdown",
   "id": "62453f5c",
   "metadata": {},
   "source": [
    "# Correlation Networks analysis per band"
   ]
  },
  {
   "cell_type": "code",
   "execution_count": 1,
   "id": "9278ad89",
   "metadata": {},
   "outputs": [
    {
     "name": "stdout",
     "output_type": "stream",
     "text": [
      "/home/opisthofulax/Documents/research+/brain_network/lrg_eegfc\n"
     ]
    }
   ],
   "source": [
    "from lrgsglib.core import *\n",
    "from lrgsglib.config.funcs import bandpass_sos\n",
    "#\n",
    "cwd = Path.cwd()\n",
    "while cwd.name != 'lrg_eegfc':\n",
    "    %cd ..\n",
    "    cwd = Path.cwd()\n",
    "#\n",
    "from src.lrg_eegfc.core import *\n",
    "#\n",
    "mat_path = Path('data') / 'stereoeeg_patients'\n",
    "patients_list = [p.name for p in Path(mat_path).iterdir() \n",
    "                 if p.is_dir() and p.name.startswith('Pat_')]\n",
    "#\n",
    "phase_labels = ['rsPre', 'taskLearn', 'taskTest', 'rsPost']\n",
    "param_keys_list = ['fs', 'fcutHigh', 'fcutLow', 'filter_order', 'NotchFilter', 'DataDimensions']"
   ]
  },
  {
   "cell_type": "markdown",
   "id": "ea690f05",
   "metadata": {},
   "source": [
    "## Input Data"
   ]
  },
  {
   "cell_type": "markdown",
   "id": "42b889ad",
   "metadata": {},
   "source": [
    "### Data import"
   ]
  },
  {
   "cell_type": "code",
   "execution_count": 2,
   "id": "5132e827",
   "metadata": {},
   "outputs": [],
   "source": [
    "ch_names = loadmat(mat_path / 'ChannelNames.mat')\n",
    "ch_names = [name[0] for name in ch_names['ChannelNames'][0]]\n",
    "ch_int_name_map = {i: name for i, name in enumerate(ch_names)}"
   ]
  },
  {
   "cell_type": "code",
   "execution_count": 3,
   "id": "9cffff23",
   "metadata": {},
   "outputs": [
    {
     "name": "stdout",
     "output_type": "stream",
     "text": [
      "No parameters found for Pat_03 rsPostPost: Please use HDF reader for matlab v7.3 files, e.g. h5py.  Continuing with h5pypyy\r"
     ]
    }
   ],
   "source": [
    "data_dict = {}\n",
    "for pat in patients_list:\n",
    "    data_dict[pat] = {}\n",
    "    for phase in phase_labels:\n",
    "        data_dict[pat][phase] = {}\n",
    "        try:\n",
    "            # Load the .mat file using scipy.io.loadmat\n",
    "            # This is the preferred method for loading .mat files\n",
    "            tmp_mat = loadmat(str(mat_path / pat / f'{phase}'))\n",
    "        except Exception as e:\n",
    "            # If loading fails, fall back to h5py\n",
    "            print(f'{type(e).__name__} loading {pat} {phase}: {e}. ',\n",
    "                  f'Continuing with h5py', end='\\r', flush=True)\n",
    "            tmp_mat = {}\n",
    "            f = h5py.File(mat_path / pat / f'{phase}.mat')\n",
    "            for k, v in f.items():\n",
    "                tmp_mat[k] = np.array(v)\n",
    "            pass\n",
    "        data_dict[pat][phase]['data'] = tmp_mat['Data']\n",
    "        tmp_shape = data_dict[pat][phase]['data'].shape\n",
    "        if tmp_shape[0] > tmp_shape[1]:\n",
    "            # Transpose the data if the first dimension is bigger\n",
    "            data_dict[pat][phase]['data'] = data_dict[pat][phase]['data'].T\n",
    "        try:\n",
    "            # Extract the parameters from the loaded data\n",
    "            # Check if 'Parameters' is in the loaded data\n",
    "            # If not, skip to the next iteration\n",
    "            for param in tmp_mat['Parameters'].dtype.names:\n",
    "                if param in param_keys_list:\n",
    "                    data_dict[pat][phase][param] = tmp_mat['Parameters'][param][0][0][0][0]\n",
    "        except:\n",
    "            print(f'No parameters found for {pat} {phase}', end='\\r', flush=True)\n",
    "            continue"
   ]
  },
  {
   "cell_type": "markdown",
   "id": "ce59ac74",
   "metadata": {},
   "source": [
    "### Test on a specific Patient-Phase dataset"
   ]
  },
  {
   "cell_type": "code",
   "execution_count": null,
   "id": "f15568d7",
   "metadata": {},
   "outputs": [],
   "source": [
    "patient = 'Pat_02'\n",
    "phase = 'rsPre'\n",
    "filttime = -1"
   ]
  },
  {
   "cell_type": "code",
   "execution_count": null,
   "id": "2f63429d",
   "metadata": {},
   "outputs": [],
   "source": [
    "data_Pat_rsPre = data_dict[patient][phase]['data'][:, :filttime]\n",
    "C = np.corrcoef(data_Pat_rsPre)\n",
    "C_clean, eigvals_C, eigvecs_C, lambda_min, lambda_max, signal_mask = clean_correlation_matrix(C)"
   ]
  },
  {
   "cell_type": "code",
   "execution_count": null,
   "id": "49e51f2b",
   "metadata": {},
   "outputs": [],
   "source": [
    "fig, ax = plt.subplots(1, 2, figsize=(8, 4))\n",
    "#\n",
    "vmin = min(C.min(), C_clean.min())\n",
    "vmax = max(C.max(), C_clean.max())\n",
    "#\n",
    "kwargs_imshow = dict(cmap='viridis', interpolation='none', vmin=vmin, vmax=vmax)\n",
    "im = ax[0].imshow(C, **kwargs_imshow)\n",
    "div, cax, clb = imshow_colorbar_caxdivider(im, ax[0])\n",
    "im = ax[1].imshow(C_clean, **kwargs_imshow)\n",
    "div, cax, clb = imshow_colorbar_caxdivider(im, ax[1])\n",
    "\n",
    "for axx in ax:\n",
    "    axx.axis('off')\n",
    "\n",
    "fig.tight_layout()"
   ]
  },
  {
   "cell_type": "markdown",
   "id": "753bd2c4",
   "metadata": {},
   "source": [
    "### Testing random entries with Marchenko--Pastur"
   ]
  },
  {
   "cell_type": "code",
   "execution_count": null,
   "id": "b40ca12e",
   "metadata": {},
   "outputs": [],
   "source": [
    "n_channels, time_steps = data_Pat_rsPre.shape\n",
    "gamma = time_steps/n_channels\n",
    "#\n",
    "counts, bins = np.histogram(eigvals_C, density=True, bins=500)\n",
    "MP_dist = marchenko_pastur(bins, gamma)"
   ]
  },
  {
   "cell_type": "code",
   "execution_count": null,
   "id": "c8815780",
   "metadata": {},
   "outputs": [],
   "source": [
    "fig, ax = plt.subplots(1, 1, figsize=(8, 4))\n",
    "ax.plot(bins[1:], counts, label='Empirical')\n",
    "ax.plot(bins, MP_dist, label='Marchenko-Pastur')\n",
    "ax.set_yscale('log')\n",
    "ax.set_xlim(left=0, right=5)"
   ]
  },
  {
   "cell_type": "markdown",
   "id": "4ad623f1",
   "metadata": {},
   "source": [
    "## Correlation Network"
   ]
  },
  {
   "cell_type": "markdown",
   "id": "1cd06203",
   "metadata": {},
   "source": [
    "### Building the network by thresholding"
   ]
  },
  {
   "cell_type": "code",
   "execution_count": null,
   "id": "546b84fe",
   "metadata": {},
   "outputs": [],
   "source": [
    "C_net = C.copy()\n",
    "np.fill_diagonal(C_net, 0)\n",
    "C_net = np.abs(C_net)\n",
    "G = nx.from_numpy_array(C_net)\n",
    "#\n",
    "Th, Einf, Pinf = compute_threshold_stats(G)\n",
    "Pinf_diff = np.diff(Pinf)\n",
    "jumps = np.where(Pinf_diff != 0)[0]"
   ]
  },
  {
   "cell_type": "code",
   "execution_count": null,
   "id": "6bf09554",
   "metadata": {},
   "outputs": [],
   "source": [
    "not_in_giant = {}\n",
    "for i,jump in enumerate(jumps):\n",
    "    C_tmp = C_net.copy()\n",
    "    C_tmp[C_tmp < Th[jump]*1.1] = 0\n",
    "    G = nx.from_numpy_array(C_tmp)\n",
    "    Gcc = max(nx.connected_components(G), key=len)\n",
    "    Gcc = G.subgraph(Gcc)\n",
    "    # get the nodes not in the giant component\n",
    "    not_in_giant[i] = set(G.nodes()) - set(Gcc.nodes())\n",
    "    if i > 0:\n",
    "        not_in_giant[i] = not_in_giant[i]-not_in_giant[i-1]"
   ]
  },
  {
   "cell_type": "code",
   "execution_count": null,
   "id": "aa6fae08",
   "metadata": {},
   "outputs": [],
   "source": [
    "plt.close('all')\n",
    "fig, ax = plt.subplots(1, 3, figsize=(24, 8))\n",
    "#\n",
    "ax[0].plot(Th, Pinf, 'o')\n",
    "ax[0].plot(Th, Einf)\n",
    "for i,jump in enumerate(jumps):\n",
    "    ax[0].axvline(Th[jump], color='r', linestyle='--', lw=0.5)\n",
    "    #annotate the vertical line with the names of the nodes not in the giant component\n",
    "    #create a string with the names of the nodes not in the giant component and rotate 90 the text in annotate\n",
    "    not_in_giant_str = ', '.join([ch_int_name_map[n] for n in not_in_giant[i]][:8])\n",
    "    ax[0].annotate(not_in_giant_str, xy=(Th[jump], Pinf[jump]),\n",
    "                xytext=(Th[jump], Pinf[jump]+0.1 if Pinf[jump] < 0.5 else -0.03),\n",
    "                rotation=90,\n",
    "                fontsize=8,\n",
    "                ha='center',\n",
    "                va='bottom',\n",
    "                bbox=dict(boxstyle=\"round,pad=0.3\", edgecolor='black', facecolor='white'),\n",
    "                arrowprops=dict(arrowstyle=\"->\", lw=0.5, color='black'))\n",
    "#\n",
    "C_tmp = C_net.copy()\n",
    "C_tmp[C_tmp < Th[jumps[1]]] = 0\n",
    "G = nx.from_numpy_array(C_tmp)\n",
    "widths = [ G[u][v]['weight'] for u, v in G.edges()]\n",
    "edge_colors = ['red' if d['weight'] < 0 else 'blue' for u, v, d in G.edges(data=True)]\n",
    "nx.draw(G, ax=ax[1], node_size=100, width=widths, edge_color=edge_colors, with_labels=True, labels=ch_int_name_map,font_size=8)\n",
    "#\n",
    "kwargs_imshow = dict(cmap='viridis', interpolation='none', vmin=C_tmp.min(), vmax=C_tmp.max())\n",
    "im = ax[2].imshow(C_tmp, **kwargs_imshow)\n",
    "div, cax, clb = imshow_colorbar_caxdivider(im, ax[2])"
   ]
  },
  {
   "cell_type": "markdown",
   "id": "393b38f4",
   "metadata": {},
   "source": [
    "### Building the correlation network by band"
   ]
  },
  {
   "cell_type": "code",
   "execution_count": null,
   "id": "660cc3a2",
   "metadata": {},
   "outputs": [],
   "source": [
    "sample_rate = 2048\n",
    "filter_order = 4\n",
    "corr_nets = {}\n",
    "corr_graphs = {}\n",
    "for band_name, (low, high) in BRAIN_BANDS.items():\n",
    "    # 4a) filter all channels at once\n",
    "    filt = bandpass_sos(data_Pat_rsPre, low, high, sample_rate, filter_order)\n",
    "    C_filt = np.abs(np.corrcoef(filt))\n",
    "    np.fill_diagonal(C_filt, 0)\n",
    "    corr_nets[band_name] = C_filt\n",
    "    corr_graphs[band_name] = nx.from_numpy_array(C_filt)"
   ]
  },
  {
   "cell_type": "code",
   "execution_count": null,
   "id": "f9bd5d3c",
   "metadata": {},
   "outputs": [],
   "source": [
    "corr_graphs_filt = {}\n",
    "corr_nets_filt = {}\n",
    "\n",
    "fig, ax = plt.subplots(3, len(BRAIN_BANDS), figsize=(24, 8))\n",
    "for i, (band_name, C_filt) in enumerate(corr_nets.items()):\n",
    "    G = corr_graphs[band_name]\n",
    "    Th, Einf, Pinf = compute_threshold_stats(G, n_points=100)\n",
    "    Pinf_diff = np.diff(Pinf)\n",
    "    jumps = np.where(Pinf_diff != 0)[0]\n",
    "    C_tmp = C_filt.copy()\n",
    "    C_tmp[C_tmp < Th[jumps[1]]] = 0\n",
    "    G = nx.from_numpy_array(C_tmp)\n",
    "    corr_nets_filt[band_name] = C_tmp\n",
    "    corr_graphs_filt[band_name] = G\n",
    "    Gcc = max(nx.connected_components(G), key=len)\n",
    "    Gcc = G.subgraph(Gcc)\n",
    "    widths = [ Gcc[u][v]['weight'] for u, v in Gcc.edges()]\n",
    "    nx.draw(Gcc, ax=ax[2][i], node_size=100, width=widths, edge_color=edge_colors, with_labels=True, labels={k: ch_int_name_map[k] for k in list(Gcc.nodes())},font_size=8)\n",
    "for i, (band_name, C_filt) in enumerate(corr_nets.items()):\n",
    "    kwargs_imshow = dict(cmap='viridis', interpolation='none', vmin=C_filt.min(), vmax=C_filt.max())\n",
    "    im = ax[0][i].imshow(C_filt, **kwargs_imshow)\n",
    "    div, cax, clb = imshow_colorbar_caxdivider(im, ax[0][i])\n",
    "    ax[0][i].set_title(band_name)\n",
    "    for tick in ax[0][i].get_xticklabels():\n",
    "        tick.set_rotation(90)\n",
    "        tick.set_fontsize(8)\n",
    "        tick.set_color('black')\n",
    "    for tick in ax[0][i].get_yticklabels():\n",
    "        tick.set_fontsize(8)\n",
    "        tick.set_color('black')\n",
    "for i, (band_name, C_filt) in enumerate(corr_nets.items()):\n",
    "    G = corr_graphs[band_name]\n",
    "    widths = [ G[u][v]['weight'] for u, v in G.edges()]\n",
    "    nx.draw(G, width=widths, ax=ax[1][i], node_size=100, with_labels=True, labels=ch_int_name_map,font_size=8)"
   ]
  },
  {
   "cell_type": "code",
   "execution_count": null,
   "id": "e38029d2",
   "metadata": {},
   "outputs": [],
   "source": [
    "oneband = 'beta'\n",
    "GG = corr_graphs_filt[oneband]\n",
    "GG = get_giant_component(GG)\n",
    "CC = corr_nets_filt[oneband]"
   ]
  },
  {
   "cell_type": "code",
   "execution_count": null,
   "id": "ac27c6f0",
   "metadata": {},
   "outputs": [],
   "source": [
    "#\n",
    "networkEntropy = entropy(GG, t1=-3, t2=5, steps=400)\n",
    "tau_scale = networkEntropy[-1]\n",
    "speC = networkEntropy[1]/networkEntropy[1].max()\n",
    "Sm1 = networkEntropy[0]/networkEntropy[0].max()\n",
    "#"
   ]
  },
  {
   "cell_type": "code",
   "execution_count": null,
   "id": "dfc3a58b",
   "metadata": {},
   "outputs": [],
   "source": [
    "spectrum, L, rho, Trho, tau = compute_laplacian_properties(GG, tau=None)\n",
    "dists = squareform(Trho)\n",
    "linkage_matrix, label_list, tmax = compute_normalized_linkage(dists, GG, method='ward')\n",
    "FlatClusteringTh , *_ = compute_optimal_threshold(linkage_matrix)"
   ]
  },
  {
   "cell_type": "code",
   "execution_count": null,
   "id": "4753889f",
   "metadata": {},
   "outputs": [],
   "source": [
    "# FlatClusteringTh =1e-2\n",
    "optimal_clusters = fcluster(linkage_matrix, t=FlatClusteringTh, criterion='distance')"
   ]
  },
  {
   "cell_type": "code",
   "execution_count": null,
   "id": "37b27fec",
   "metadata": {},
   "outputs": [],
   "source": [
    "fig = plt.figure(constrained_layout=True,figsize=(9, 9))\n",
    "#\n",
    "ax_dict = fig.subplot_mosaic(\n",
    "    \"\"\"\n",
    "    DDDDE\n",
    "    DDDDE\n",
    "    DDDDE\n",
    "    BBCCE\n",
    "    BBCCE\n",
    "    \"\"\"\n",
    ")\n",
    "#\n",
    "im = ax_dict['B'].imshow(CC, cmap='coolwarm_r', interpolation='none')\n",
    "imshow_colorbar_caxdivider(im, ax_dict['B'], position='bottom')#, orientation='horizontal')\n",
    "ax_dict['B'].axis('off')\n",
    "#\n",
    "ax_dict['C'].plot(tau_scale, Sm1, label=r'$1-S$')\n",
    "ax_dict['C'].plot(tau_scale[:-1], speC, label=r'$C$')\n",
    "ax_dict['C'].set_xscale('log')\n",
    "ax_dict['C'].legend()\n",
    "ax_dict['C'].set_xlabel(r\"$\\tau$\")\n",
    "ax_dict['C'].axvline(tau, color = 'r', \n",
    "    linestyle = '--', )\n",
    "#\n",
    "relabel_list = [ch_int_name_map[nd] for nd in label_list]\n",
    "dendro = dendrogram(linkage_matrix, ax=ax_dict['E'], \n",
    "                    color_threshold=FlatClusteringTh,\n",
    "    above_threshold_color='k', leaf_font_size=9,\n",
    "    labels=relabel_list, orientation='right')\n",
    "tmin = linkage_matrix[::, 2][0] - 0.2*linkage_matrix[::, 2][0]\n",
    "tmax = linkage_matrix[::, 2][-1] + 0.1*linkage_matrix[::, 2][-1]\n",
    "#\n",
    "ax_dict['E'].axvline(\n",
    "    FlatClusteringTh, \n",
    "    color = 'b', \n",
    "    linestyle = '--', \n",
    "    label=r\"$\\mathcal{D}_{\\rm th}$\")\n",
    "ax_dict['E'].set_xscale('log')\n",
    "ax_dict['E'].set_xlim(tmin,tmax)\n",
    "ax_dict['E'].legend()\n",
    "ax_dict['E'].set_xlabel(r\"$\\mathcal{D}/\\mathcal{D}_{max}$\")\n",
    "ax_dict['E'].set_ylabel('Pin')\n",
    "#\n",
    "leaf_label_colors = {label: color for label, color in zip(dendro['ivl'], dendro['leaves_color_list'])}\n",
    "node_colors = [leaf_label_colors[label] for label in relabel_list]\n",
    "\n",
    "widths = [GG[u][v]['weight'] for u, v in GG.edges()]\n",
    "ch_int_name_map_ = {k: ch_int_name_map[k] for k in list(GG.nodes())}\n",
    "\n",
    "pos = nx.spring_layout(GG, seed=5)\n",
    "\n",
    "#\n",
    "nx.draw(GG, pos=pos, ax=ax_dict['D'], node_size=80, font_size=10, width=widths, edge_color=edge_colors, node_color=node_colors,alpha=0.7, with_labels=True, labels=ch_int_name_map_, )\n",
    "# plt.margins(0.0)\n",
    "#\n"
   ]
  },
  {
   "cell_type": "code",
   "execution_count": null,
   "id": "52e4e425",
   "metadata": {},
   "outputs": [],
   "source": []
  }
 ],
 "metadata": {
  "kernelspec": {
   "display_name": "lapbrain",
   "language": "python",
   "name": "python3"
  },
  "language_info": {
   "codemirror_mode": {
    "name": "ipython",
    "version": 3
   },
   "file_extension": ".py",
   "mimetype": "text/x-python",
   "name": "python",
   "nbconvert_exporter": "python",
   "pygments_lexer": "ipython3",
   "version": "3.12.3"
  }
 },
 "nbformat": 4,
 "nbformat_minor": 5
}
