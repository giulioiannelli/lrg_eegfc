{
 "cells": [
  {
   "cell_type": "markdown",
   "metadata": {},
   "source": [
    "# Tree-based Ultrametric Measures: Patient Comparison\n\nCompute tree-based distances (Robinson-Foulds, Cophenetic correlation, Baker's gamma, Fowlkes-Mallows) across phases for every patient, per EEG band.\nPlots show, for each band and measure, phase-by-phase distance matrices side-by-side for all patients.\n"
   ]
  },
  {
   "cell_type": "code",
   "execution_count": null,
   "metadata": {},
   "outputs": [],
   "source": [
    "%matplotlib inline\n",
    "# Core imports\n",
    "import numpy as np\n",
    "import matplotlib.pyplot as plt\n",
    "from pathlib import Path\n",
    "\n",
    "# Project helpers\n",
    "from lrgsglib import *\n",
    "move_to_rootf(pathname='lrg_eegfc')\n",
    "from lrg_eegfc import *\n",
    "\n",
    "# Specific utilities\n",
    "from lrgsglib.utils.lrg.infocomm import extract_ultrametric_matrix\n",
    "from lrg_eegfc.utils.corrmat import process_network_for_phase\n",
    "from lrg_eegfc.utils.datamanag.loaders import load_data_dict\n",
    "from lrg_eegfc.config.const import PHASE_LABELS, BRAIN_BANDS, PATIENTS_LIST, BRAIN_BAND_LABELS\n",
    "\n",
    "# Figure output path\n",
    "path_figs = Path('data') / 'figures' / 'new_tree_measures_pat_comparison'\n",
    "path_figs.mkdir(parents=True, exist_ok=True)\n",
    "\n",
    "phase_labels = list(PHASE_LABELS)\n",
    "bands = list(BRAIN_BANDS.keys())\n",
    "patients = list(PATIENTS_LIST)\n",
    "\n",
    "# Correlation network protocol (consistent with other notebooks)\n",
    "correlation_protocol = dict(threshold=0, spectral_cleaning=False)\n",
    "\n",
    "print(f'Patients: {patients}')\n",
    "print(f'Phases: {phase_labels}')\n",
    "print(f'Bands: {bands}')\n",
    "\n",
    "from lrgsglib.utils.basic.linalg import (\n",
    "    tree_robinson_foulds_distance,\n",
    "    tree_cophenetic_correlation,\n",
    "    tree_baker_gamma,\n",
    "    tree_fowlkes_mallows_index,\n",
    ")\n"
   ]
  },
  {
   "cell_type": "markdown",
   "metadata": {},
   "source": [
    "## Load Data"
   ]
  },
  {
   "cell_type": "code",
   "execution_count": null,
   "metadata": {},
   "outputs": [],
   "source": [
    "data_dict, int_label_map = load_data_dict()\n",
    "print('\u2713 Data loaded')\n"
   ]
  },
  {
   "cell_type": "markdown",
   "metadata": {},
   "source": [
    "## Build Ultrametric and Linkage Structures per Patient, Phase, Band"
   ]
  },
  {
   "cell_type": "code",
   "execution_count": null,
   "metadata": {},
   "outputs": [],
   "source": [
    "def compute_structures_for_patient(patient: str, filter_order: int = 1):\n",
    "    U = {b: {} for b in bands}\n",
    "    Z = {b: {} for b in bands}\n",
    "    D = {b: {} for b in bands}\n",
    "\n",
    "    pin_labels = int_label_map[patient]['label']\n",
    "\n",
    "    for phase in phase_labels:\n",
    "        data_pat_phase = data_dict[patient][phase]\n",
    "        data_pat_phase_ts = data_pat_phase['data']\n",
    "        fs_raw = data_pat_phase.get('fs', None)\n",
    "        fs = float(np.asarray(fs_raw).flat[0]) if fs_raw is not None else 1000.0\n",
    "\n",
    "        for band in bands:\n",
    "            G, label_dict, lnkgM, clTh, corr_mat, dists = process_network_for_phase(\n",
    "                data_pat_phase_ts, fs, band, correlation_protocol, pin_labels, filter_order=filter_order\n",
    "            )\n",
    "            if lnkgM is None or G is None:\n",
    "                U[band][phase] = None\n",
    "                Z[band][phase] = None\n",
    "                D[band][phase] = None\n",
    "                continue\n",
    "            try:\n",
    "                U[band][phase] = extract_ultrametric_matrix(lnkgM, G.number_of_nodes())\n",
    "            except Exception as e:\n",
    "                print(f'[WARN] {patient} {phase} {band}: failed to extract ultrametric ({e})')\n",
    "                U[band][phase] = None\n",
    "            Z[band][phase] = lnkgM\n",
    "            if isinstance(dists, dict):\n",
    "                D[band][phase] = dists.get('condensed')\n",
    "            else:\n",
    "                D[band][phase] = None\n",
    "    return U, Z, D\n",
    "\n",
    "ultra_by_pat = {}\n",
    "linkage_by_pat = {}\n",
    "condensed_by_pat = {}\n",
    "for pat in patients:\n",
    "    print(f'Computing ultrametric structures for {pat} ...')\n",
    "    U, Z, D = compute_structures_for_patient(pat)\n",
    "    ultra_by_pat[pat] = U\n",
    "    linkage_by_pat[pat] = Z\n",
    "    condensed_by_pat[pat] = D\n",
    "print('\u2713 Ultrametric structures computed for all patients')\n"
   ]
  },
  {
   "cell_type": "markdown",
   "metadata": {},
   "source": [
    "## Phase Distance Matrices per Patient, Band, Measure"
   ]
  },
  {
   "cell_type": "code",
   "execution_count": null,
   "metadata": {},
   "outputs": [],
   "source": [
    "measures = ['robinson_foulds', 'cophenetic', 'baker_gamma', 'fowlkes_mallows']\n",
    "results = {m: {b: {} for b in bands} for m in measures}\n",
    "n = len(phase_labels)\n",
    "\n",
    "for band in bands:\n",
    "    for pat in patients:\n",
    "        for measure in measures:\n",
    "            dm = np.full((n, n), np.nan, dtype=float)\n",
    "            for i, pi in enumerate(phase_labels):\n",
    "                for j, pj in enumerate(phase_labels):\n",
    "                    if i == j:\n",
    "                        dm[i, j] = 0.0\n",
    "                        continue\n",
    "                    Z1 = linkage_by_pat[pat][band].get(pi)\n",
    "                    Z2 = linkage_by_pat[pat][band].get(pj)\n",
    "                    if Z1 is None or Z2 is None:\n",
    "                        dm[i, j] = np.nan\n",
    "                    else:\n",
    "                        if measure == 'robinson_foulds':\n",
    "                            dm[i, j] = tree_robinson_foulds_distance(Z1, Z2, normalized=True)\n",
    "                        elif measure == 'cophenetic':\n",
    "                            corr = tree_cophenetic_correlation(Z1, Z2)\n",
    "                            dm[i, j] = 1.0 - corr\n",
    "                        elif measure == 'baker_gamma':\n",
    "                            gamma = tree_baker_gamma(Z1, Z2)\n",
    "                            dm[i, j] = 1.0 - gamma\n",
    "                        elif measure == 'fowlkes_mallows':\n",
    "                            fm = tree_fowlkes_mallows_index(Z1, Z2)\n",
    "                            dm[i, j] = 1.0 - fm\n",
    "            results[measure][band][pat] = dm\n",
    "    print(f'Band {band}: \u2713 measures computed')\n",
    "\n",
    "print('\u2713 All phase-distance matrices computed')\n"
   ]
  },
  {
   "cell_type": "markdown",
   "metadata": {},
   "source": [
    "## Plot: Side-by-Side Patients per Band and Measure"
   ]
  },
  {
   "cell_type": "code",
   "execution_count": null,
   "metadata": {},
   "outputs": [],
   "source": [
    "def plot_band_measure_side_by_side(measure: str, band: str, label: str):\n",
    "    vmax = 0.0\n",
    "    for pat in patients:\n",
    "        m = results[measure][band].get(pat)\n",
    "        if m is not None and np.isfinite(m).any():\n",
    "            vmax = max(vmax, np.nanmax(m))\n",
    "    if vmax == 0.0:\n",
    "        print(f'[SKIP] No finite values for {measure} / {band}')\n",
    "        return\n",
    "\n",
    "    fig, axes = plt.subplots(1, len(patients), figsize=(4*len(patients)+2, 4), constrained_layout=True)\n",
    "    if len(patients) == 1:\n",
    "        axes = [axes]\n",
    "\n",
    "    cmap = plt.cm.viridis.copy()\n",
    "    cmap.set_bad(color='lightgray')\n",
    "\n",
    "    for ax, pat in zip(axes, patients):\n",
    "        M = results[measure][band][pat]\n",
    "        im = ax.imshow(M, vmin=0.0, vmax=vmax, cmap=cmap, aspect='equal')\n",
    "        ax.set_title(f\"{pat}\")\n",
    "        ax.set_xticks(range(len(phase_labels)))\n",
    "        ax.set_yticks(range(len(phase_labels)))\n",
    "        ax.set_xticklabels(phase_labels, rotation=45, ha='right')\n",
    "        ax.set_yticklabels(phase_labels)\n",
    "        for spine in ax.spines.values():\n",
    "            spine.set_visible(False)\n",
    "\n",
    "    cbar = fig.colorbar(im, ax=axes, shrink=0.85)\n",
    "    cbar.set_label(label)\n",
    "    outdir = path_figs / measure\n",
    "    outdir.mkdir(parents=True, exist_ok=True)\n",
    "    outfile = outdir / f'{band}.png'\n",
    "    fig.savefig(outfile, dpi=200, bbox_inches='tight')\n",
    "    plt.show()\n",
    "    print(f'Saved: {outfile}')\n",
    "\n",
    "labels = {\n",
    "    'robinson_foulds': 'Robinson-Foulds distance',\n",
    "    'cophenetic': '1 - cophenetic correlation',\n",
    "    'baker_gamma': \"1 - Baker's gamma\",\n",
    "    'fowlkes_mallows': '1 - Fowlkes-Mallows index',\n",
    "}\n",
    "\n",
    "for measure in measures:\n",
    "    for band in bands:\n",
    "        plot_band_measure_side_by_side(measure, band, labels[measure])\n",
    "\n",
    "print('\u2713 All figures generated')\n"
   ]
  },
  {
   "cell_type": "code",
   "execution_count": null,
   "metadata": {},
   "outputs": [],
   "source": []
  }
 ],
 "metadata": {
  "kernelspec": {
   "display_name": "lapbrain",
   "language": "python",
   "name": "python3"
  },
  "language_info": {
   "codemirror_mode": {
    "name": "ipython",
    "version": 3
   },
   "file_extension": ".py",
   "mimetype": "text/x-python",
   "name": "python",
   "nbconvert_exporter": "python",
   "pygments_lexer": "ipython3",
   "version": "3.12.3"
  }
 },
 "nbformat": 4,
 "nbformat_minor": 5
}