{
 "cells": [
  {
   "cell_type": "code",
   "execution_count": 1,
   "id": "b71cfcd3",
   "metadata": {},
   "outputs": [
    {
     "name": "stdout",
     "output_type": "stream",
     "text": [
      "Current working directory: /home/opisthofulax/Documents/research+/brain_network/lrg_eegfc\n"
     ]
    }
   ],
   "source": [
    "%matplotlib inline\n",
    "#\n",
    "from lrgsglib import *\n",
    "#\n",
    "move_to_rootf(pathname='lrg_eegfc')\n",
    "#\n",
    "from lrg_eegfc import *"
   ]
  },
  {
   "cell_type": "markdown",
   "id": "4a4d79a2",
   "metadata": {},
   "source": [
    "## Data reader"
   ]
  },
  {
   "cell_type": "code",
   "execution_count": 2,
   "id": "1680b0ec",
   "metadata": {},
   "outputs": [],
   "source": [
    "data_dict, int_label_pos_map = load_data_dict(\n",
    "    mat_path, patients_list, phase_labels, param_keys_list\n",
    ")"
   ]
  },
  {
   "cell_type": "code",
   "execution_count": null,
   "id": "bcd65814",
   "metadata": {},
   "outputs": [],
   "source": [
    "#\n",
    "correlation_protocol = dict(threshold=0, spectral_cleaning=True)\n",
    "#\n",
    "path_figs = Path('data') / 'figures' / 'per_patient_preVSpost'\n",
    "path_figs.mkdir(parents=True, exist_ok=True)\n",
    "# Plot settings\n",
    "kw_thline = dict(color='b', linestyle='--', label=r'$\\mathcal{D}_{\\rm th}$')\n",
    "kw_draw_graph = dict(node_size=100, font_size=8, with_labels=True)\n",
    "kw_dentro = dict(above_threshold_color='k', leaf_font_size=5, orientation='top')"
   ]
  },
  {
   "cell_type": "code",
   "execution_count": 7,
   "id": "6de0cb2b",
   "metadata": {},
   "outputs": [
    {
     "name": "stdout",
     "output_type": "stream",
     "text": [
      "Pat_03\n",
      "rsPre\tdelta\r"
     ]
    },
    {
     "name": "stderr",
     "output_type": "stream",
     "text": [
      "/home/opisthofulax/Documents/research+/brain_network/lrg_eegfc/src/lrg_eegfc/utils/corrmat.py:600: RuntimeWarning: Reducing filter order from 4 to 2 for narrow band (0.53-4 Hz, 0.0068 of Nyquist) to avoid numerical instabilities.\n",
      "  warnings.warn(\n",
      "/home/opisthofulax/Documents/research+/brain_network/lrg_eegfc/lrgsglib/src/lrgsglib/utils/basic/signals.py:58: RuntimeWarning: Very narrow filter bandwidth (0.0068 of Nyquist). Consider reducing filter order or increasing bandwidth.\n",
      "  warnings.warn(\n"
     ]
    },
    {
     "name": "stdout",
     "output_type": "stream",
     "text": [
      "theta\r"
     ]
    },
    {
     "name": "stderr",
     "output_type": "stream",
     "text": [
      "/home/opisthofulax/Documents/research+/brain_network/lrg_eegfc/src/lrg_eegfc/utils/corrmat.py:600: RuntimeWarning: Reducing filter order from 4 to 2 for narrow band (4-8 Hz, 0.0078 of Nyquist) to avoid numerical instabilities.\n",
      "  warnings.warn(\n",
      "/home/opisthofulax/Documents/research+/brain_network/lrg_eegfc/lrgsglib/src/lrgsglib/utils/basic/signals.py:58: RuntimeWarning: Very narrow filter bandwidth (0.0078 of Nyquist). Consider reducing filter order or increasing bandwidth.\n",
      "  warnings.warn(\n"
     ]
    },
    {
     "name": "stdout",
     "output_type": "stream",
     "text": [
      "alpha\r"
     ]
    },
    {
     "name": "stderr",
     "output_type": "stream",
     "text": [
      "/home/opisthofulax/Documents/research+/brain_network/lrg_eegfc/src/lrg_eegfc/utils/corrmat.py:600: RuntimeWarning: Reducing filter order from 4 to 2 for narrow band (8-13 Hz, 0.0098 of Nyquist) to avoid numerical instabilities.\n",
      "  warnings.warn(\n",
      "/home/opisthofulax/Documents/research+/brain_network/lrg_eegfc/lrgsglib/src/lrgsglib/utils/basic/signals.py:58: RuntimeWarning: Very narrow filter bandwidth (0.0098 of Nyquist). Consider reducing filter order or increasing bandwidth.\n",
      "  warnings.warn(\n"
     ]
    },
    {
     "name": "stdout",
     "output_type": "stream",
     "text": [
      "beta\r"
     ]
    },
    {
     "name": "stderr",
     "output_type": "stream",
     "text": [
      "/home/opisthofulax/anaconda3/envs/lapbrain/lib/python3.12/site-packages/scipy/signal/_filter_design.py:4334: RuntimeWarning: overflow encountered in scalar negative\n",
      "  m = numpy.arange(-N+1, N, 2)\n"
     ]
    },
    {
     "name": "stdout",
     "output_type": "stream",
     "text": [
      "Pat_02ammatataa\n",
      "Pat_02delta\n",
      "rsPre\tdelta\r"
     ]
    },
    {
     "name": "stderr",
     "output_type": "stream",
     "text": [
      "/home/opisthofulax/Documents/research+/brain_network/lrg_eegfc/src/lrg_eegfc/utils/corrmat.py:600: RuntimeWarning: Reducing filter order from 4 to 2 for narrow band (0.53-4 Hz, 0.0034 of Nyquist) to avoid numerical instabilities.\n",
      "  warnings.warn(\n",
      "/home/opisthofulax/Documents/research+/brain_network/lrg_eegfc/lrgsglib/src/lrgsglib/utils/basic/signals.py:58: RuntimeWarning: Very narrow filter bandwidth (0.0034 of Nyquist). Consider reducing filter order or increasing bandwidth.\n",
      "  warnings.warn(\n"
     ]
    },
    {
     "name": "stdout",
     "output_type": "stream",
     "text": [
      "theta\r"
     ]
    },
    {
     "name": "stderr",
     "output_type": "stream",
     "text": [
      "/home/opisthofulax/Documents/research+/brain_network/lrg_eegfc/src/lrg_eegfc/utils/corrmat.py:600: RuntimeWarning: Reducing filter order from 4 to 2 for narrow band (4-8 Hz, 0.0039 of Nyquist) to avoid numerical instabilities.\n",
      "  warnings.warn(\n",
      "/home/opisthofulax/Documents/research+/brain_network/lrg_eegfc/lrgsglib/src/lrgsglib/utils/basic/signals.py:58: RuntimeWarning: Very narrow filter bandwidth (0.0039 of Nyquist). Consider reducing filter order or increasing bandwidth.\n",
      "  warnings.warn(\n"
     ]
    },
    {
     "name": "stdout",
     "output_type": "stream",
     "text": [
      "alpha\r"
     ]
    },
    {
     "name": "stderr",
     "output_type": "stream",
     "text": [
      "/home/opisthofulax/Documents/research+/brain_network/lrg_eegfc/src/lrg_eegfc/utils/corrmat.py:600: RuntimeWarning: Reducing filter order from 4 to 2 for narrow band (8-13 Hz, 0.0049 of Nyquist) to avoid numerical instabilities.\n",
      "  warnings.warn(\n",
      "/home/opisthofulax/Documents/research+/brain_network/lrg_eegfc/lrgsglib/src/lrgsglib/utils/basic/signals.py:58: RuntimeWarning: Very narrow filter bandwidth (0.0049 of Nyquist). Consider reducing filter order or increasing bandwidth.\n",
      "  warnings.warn(\n"
     ]
    },
    {
     "name": "stdout",
     "output_type": "stream",
     "text": [
      "high_gammatataa\r"
     ]
    }
   ],
   "source": [
    "ultraDist = {}\n",
    "lnkgMat = {}\n",
    "condDist = {}\n",
    "#\n",
    "for patient in patients_list:\n",
    "    print(patient)\n",
    "    #\n",
    "    data_pat = data_dict[patient]\n",
    "    pin_labels = int_label_pos_map[patient]['label']\n",
    "    #\n",
    "    ultraDist[patient] = {}\n",
    "    lnkgMat[patient] = {}\n",
    "    condDist[patient] = {}\n",
    "    #\n",
    "    for phase in phase_labels:\n",
    "        print(phase, end='\\t')\n",
    "        #\n",
    "        ultraDist[patient][phase] = {}\n",
    "        lnkgMat[patient][phase] = {}\n",
    "        condDist[patient][phase] = {}\n",
    "        # Extract time series data for the current phase\n",
    "        data_pat_phase = data_pat[phase]\n",
    "        data_pat_phase_ts = data_pat_phase['data']\n",
    "        fs = data_pat_phase['fs']\n",
    "        for band, (low_freq, high_freq) in BRAIN_BANDS.items():\n",
    "            print(band, flush=True, end='\\r')\n",
    "            #\n",
    "            result = process_network_for_phase(\n",
    "                data_pat_phase_ts, fs, band, correlation_protocol, \n",
    "                pin_labels, filter_order=1\n",
    "            )\n",
    "            G, label_dict, lnkgM, clTh, corr_mat, dists = result\n",
    "            ultraDist[patient][phase][band] = extract_ultrametric_matrix(\n",
    "                lnkgM,\n",
    "                G.number_of_nodes()\n",
    "            )\n",
    "            lnkgMat[patient][phase][band] = lnkgM\n",
    "            condDist[patient][phase][band] = dists"
   ]
  },
  {
   "cell_type": "code",
   "execution_count": null,
   "id": "730ac24a",
   "metadata": {},
   "outputs": [],
   "source": [
    "from itertools import combinations\n",
    "import pandas as pd\n",
    "from lrgsglib.utils.basic.linalg import compare_ultrametric_trees\n",
    "\n",
    "# Tweak these if you want to restrict the analysis\n",
    "bands_to_check = list(BRAIN_BANDS.keys())\n",
    "phases_to_compare = list(phase_labels)\n",
    "\n",
    "pairwise_stats: list[dict] = []\n",
    "\n",
    "for patient in patients_list:\n",
    "    for band in bands_to_check:\n",
    "        for phase_a, phase_b in combinations(phases_to_compare, 2):\n",
    "            # Skip missing results gracefully\n",
    "            try:\n",
    "                U1 = ultraDist[patient][phase_a][band]\n",
    "                U2 = ultraDist[patient][phase_b][band]\n",
    "            except KeyError:\n",
    "                continue\n",
    "\n",
    "            metrics = compare_ultrametric_trees(\n",
    "                U1,\n",
    "                U2,\n",
    "                scale=\"log\",          # options: 'linear', 'log', 'zscore', 'rank'\n",
    "                value_metric=\"euclidean\",\n",
    "                normalize=True,\n",
    "            )\n",
    "\n",
    "            pairwise_stats.append({\n",
    "                \"patient\": patient,\n",
    "                \"band\": band,\n",
    "                \"phase_a\": phase_a,\n",
    "                \"phase_b\": phase_b,\n",
    "                **metrics,\n",
    "            })\n",
    "\n",
    "comparisons_df = pd.DataFrame(pairwise_stats)\n",
    "display(comparisons_df.sort_values([\"patient\", \"band\", \"phase_a\", \"phase_b\"]))\n"
   ]
  },
  {
   "cell_type": "code",
   "execution_count": null,
   "id": "99ac798e",
   "metadata": {},
   "outputs": [],
   "source": []
  },
  {
   "cell_type": "code",
   "execution_count": null,
   "id": "b38911d3",
   "metadata": {},
   "outputs": [],
   "source": [
    "band = 'delta'\n",
    "n = len(phase_labels)\n",
    "distance_matrix = np.zeros((n, n))\n",
    "for i, phase in enumerate(phase_labels):\n",
    "    for j, phase2 in enumerate(phase_labels):\n",
    "        if i < j:\n",
    "            d = ultrametric_distance_permutation_robust(\n",
    "                lnkgMat[phase][band], \n",
    "                lnkgMat[phase2][band], \n",
    "                condDist[phase][band], \n",
    "                condDist[phase2][band], \n",
    "                pin_labels, \n",
    "                metric='euclidean')\n",
    "            distance_matrix[i, j] = d\n",
    "            distance_matrix[j, i] = d"
   ]
  },
  {
   "cell_type": "code",
   "execution_count": null,
   "id": "3578b11b",
   "metadata": {},
   "outputs": [],
   "source": [
    "\n",
    "\n",
    "# Create figure with GridSpec for custom layout\n",
    "fig = plt.figure(figsize=(16, 8))\n",
    "gs = gridspec.GridSpec(2, 6, figure=fig, hspace=0.3, wspace=0.3)\n",
    "\n",
    "# Left subplot for distance matrix - now spans 2 columns instead of 1\n",
    "ax_dist = fig.add_subplot(gs[:, 0:2])\n",
    "im = ax_dist.imshow(distance_matrix, cmap='viridis')\n",
    "ax_dist.set_title('Distance Matrix')\n",
    "ax_dist.set_xticks(range(len(phase_labels)))\n",
    "ax_dist.set_yticks(range(len(phase_labels)))\n",
    "ax_dist.set_xticklabels(phase_labels, rotation=45)\n",
    "ax_dist.set_yticklabels(phase_labels)\n",
    "div, cax, clb = imshow_colorbar_caxdivider(im, ax_dist)\n",
    "# plt.colorbar(im, ax=ax_dist)\n",
    "\n",
    "# Right subplots for dendrograms (2x2 grid) - now starting from column 2\n",
    "for i, phase in enumerate(phase_labels):\n",
    "    row = i // 2\n",
    "    col = i % 2 + 2  # Start from column 2 (after distance matrix)\n",
    "    if col == 2:\n",
    "        ax_dend = fig.add_subplot(gs[row, 2:4])  # Span 2 columns for first dendrogram in each row\n",
    "    else:\n",
    "        ax_dend = fig.add_subplot(gs[row, 4:6])  # Span 2 columns for second dendrogram in each row\n",
    "    \n",
    "    lnkg = lnkgMat[phase][band]\n",
    "    Z_opt = optimal_leaf_ordering(lnkg, condDist[phase][band])\n",
    "    dendrogram(Z_opt, ax=ax_dend, no_labels=True, **kw_dentro)\n",
    "    ax_dend.set_yscale('log')\n",
    "    tmin = lnkg[:, 2][0] * 0.8\n",
    "    tmax = lnkg[:, 2][-1] * 1.01\n",
    "    ax_dend.set_ylim(tmin, tmax)\n",
    "    ax_dend.set_title(f'{phase}')\n",
    "\n",
    "plt.show()"
   ]
  },
  {
   "cell_type": "markdown",
   "id": "93f677d2",
   "metadata": {},
   "source": [
    "### One Patient, one phase"
   ]
  },
  {
   "cell_type": "code",
   "execution_count": null,
   "id": "3b85bb67",
   "metadata": {},
   "outputs": [],
   "source": [
    "patient = 'Pat_02'\n",
    "phase = 'taskLearn'\n",
    "#\n",
    "corr_net_filt = dict(threshold=0)\n",
    "#\n",
    "data_pat_phase = data_dict[patient][phase]\n",
    "data_pat_phase_ts = data_pat_phase['data']\n",
    "fs = data_pat_phase['fs']\n",
    "filter_order = data_pat_phase['filter_order']\n",
    "#\n",
    "n_intervals = 50\n",
    "interval_length = int(data_pat_phase_ts.shape[1] // n_intervals)\n",
    "n_intervals, interval_length"
   ]
  },
  {
   "cell_type": "code",
   "execution_count": null,
   "id": "3c80a4fb",
   "metadata": {},
   "outputs": [],
   "source": [
    "corr_mat_band_tw = {}\n",
    "for band_name, (low, high) in tqdm(BRAIN_BANDS.items()):\n",
    "    corr_mat_band_tw[band_name] = {}\n",
    "    for i in range(n_intervals):\n",
    "        start = i * interval_length\n",
    "        end = (i + 1) * interval_length\n",
    "        interval_data = data_pat_phase_ts[:, start:end]\n",
    "        # pay attention the filter is not chnaging if it fails (filter order?)\n",
    "        filter_data = bandpass_sos(interval_data, low, high, fs, 1)\n",
    "        corr_mat = build_corr_network(filter_data, threshold=0)\n",
    "        \n",
    "        # Find EXACT detachment threshold\n",
    "        Th, jumps = find_threshold_jumps(nx.from_numpy_array(corr_mat))\n",
    "        \n",
    "        corr_mat = build_corr_network(filter_data, threshold=Th[jumps[0]])\n",
    "        corr_mat_band_tw[band_name][i] = corr_mat"
   ]
  },
  {
   "cell_type": "markdown",
   "id": "533c4cb6",
   "metadata": {},
   "source": [
    "Given the LRG induced ultrametric distances \n",
    "$$\n",
    "    \\mathcal{D}_{ij}(\\tau) = \\frac{1 - \\delta_{ij}}{K_{ij}(\\tau)},\n",
    "$$\n",
    "between the nodes in the network built in a time window, one can measure the (Euclidean) distance of distances\n",
    "$$\n",
    "    d(\\mathcal{D}_{ij}^{t_1}(\\tau), \\mathcal{D}_{ij}^{t_2}(\\tau))\n",
    "$$\n",
    "Maybe we want to consider the integral of this quantity ($\\int d(\\tau)\\mathop{\\rm d\\tau}$) and maybe weight it on the relevant scales of the system."
   ]
  },
  {
   "cell_type": "code",
   "execution_count": null,
   "id": "3f40ddc8",
   "metadata": {},
   "outputs": [],
   "source": [
    "# Example usage with your linkage matrix:\n",
    "cc = corr_mat_band_tw['low_gamma'][49]\n",
    "gg = nx.from_numpy_array(cc)\n",
    "n_nodes = gg.number_of_nodes()\n",
    "linkage_matrix = MakeLinkageMatrix(gg, tau=10)\n",
    "ud = extract_ultrametric_matrix(linkage_matrix, n_nodes)\n",
    "sm1,dS,vL,ttts = entropy(gg, t2=3)\n",
    "# Visualize the ultrametric distance matrix\n",
    "fig, ax = plt.subplots(1, 2, figsize=(12, 6))\n",
    "ax[0].plot(ttts[1:], dS, '-', label='Entropy')\n",
    "ax[0].set_xscale('log')\n",
    "inset_ax = ax[0].inset_axes([0.4, 0.4, 0.7, 0.7])  # [x, y, width, height]\n",
    "ax[0].spines['top'].set_visible(False)\n",
    "ax[0].spines['right'].set_visible(False)\n",
    "pos = nx.nx_agraph.graphviz_layout(gg)\n",
    "nx.draw(gg, ax=inset_ax, with_labels=True, node_size=50, font_size=8)\n",
    "im = ax[1].imshow(ud, cmap='viridis')\n",
    "fig.colorbar(im, ax=ax[1], label='Ultrametric Distance')\n",
    "plt.show()"
   ]
  },
  {
   "cell_type": "code",
   "execution_count": null,
   "id": "261b851d",
   "metadata": {},
   "outputs": [],
   "source": [
    "ultraDist = []\n",
    "for i in range(n_intervals):\n",
    "    cc = corr_mat_band_tw['delta'][i]\n",
    "    gg = nx.from_numpy_array(cc)\n",
    "    n_nodes = gg.number_of_nodes()\n",
    "    linkage_matrix = MakeLinkageMatrix(gg, tau=3)\n",
    "    ultraDist.append(extract_ultrametric_matrix(linkage_matrix, n_nodes))"
   ]
  },
  {
   "cell_type": "code",
   "execution_count": null,
   "id": "dbb0867c",
   "metadata": {},
   "outputs": [],
   "source": [
    "# Example: compute pairwise distances between all ultrametric matrices\n",
    "n = len(ultraDist)\n",
    "distance_matrix = np.zeros((n, n))\n",
    "for i in range(n):\n",
    "    for j in range(i+1, n):\n",
    "        d = ultrametric_matrix_distance(ultraDist[i], ultraDist[j])\n",
    "        distance_matrix[i, j] = d\n",
    "        distance_matrix[j, i] = d\n",
    "distance_matrix /= np.max(distance_matrix)\n",
    "# plt.imshow(distance_matrix)\n",
    "# plt.colorbar()\n",
    "for i in range(10):\n",
    "    plt.plot(distance_matrix[i], 'o:', label=f'interval {i}')"
   ]
  },
  {
   "cell_type": "code",
   "execution_count": null,
   "id": "e5ad40ab",
   "metadata": {},
   "outputs": [],
   "source": [
    "plt.imshow(distance_matrix, interpolation='none', cmap='binary')\n",
    "plt.colorbar()"
   ]
  },
  {
   "cell_type": "code",
   "execution_count": null,
   "id": "f0da6a75",
   "metadata": {},
   "outputs": [],
   "source": [
    "i1 = 0\n",
    "i2 = 12"
   ]
  },
  {
   "cell_type": "code",
   "execution_count": null,
   "id": "34bacd78",
   "metadata": {},
   "outputs": [],
   "source": [
    "fig, ax = plt.subplots(1, 2, figsize=(10, 5))\n",
    "ax[0].imshow(ultraDist[i1])\n",
    "ax[1].imshow(ultraDist[i2])"
   ]
  },
  {
   "cell_type": "code",
   "execution_count": null,
   "id": "c2fcf6ed",
   "metadata": {},
   "outputs": [],
   "source": [
    "fig, ax = plt.subplots(1, 2, figsize=(10, 5))\n",
    "ax[0].imshow(corr_mat_band_tw['delta'][i1])\n",
    "ax[1].imshow(corr_mat_band_tw['delta'][i2])"
   ]
  },
  {
   "cell_type": "code",
   "execution_count": null,
   "id": "18cc13ef",
   "metadata": {},
   "outputs": [],
   "source": [
    "fig, ax = plt.subplots(1, 2, figsize=(10, 5))\n",
    "\n",
    "cc0 = corr_mat_band_tw['delta'][i1]\n",
    "cc1 = corr_mat_band_tw['delta'][i2]\n",
    "gg0 = nx.from_numpy_array(cc0)\n",
    "gg1 = nx.from_numpy_array(cc1)\n",
    "\n",
    "pos0 = nx.nx_agraph.graphviz_layout(gg0)\n",
    "pos1 = nx.nx_agraph.graphviz_layout(gg1)\n",
    "\n",
    "nx.draw(gg0, pos=pos0, ax=ax[0], with_labels=True, node_size=50, font_size=8)\n",
    "nx.draw(gg1, pos=pos0, ax=ax[1], with_labels=True, node_size=50, font_size=8)"
   ]
  },
  {
   "cell_type": "code",
   "execution_count": null,
   "id": "281122ce",
   "metadata": {},
   "outputs": [],
   "source": []
  }
 ],
 "metadata": {
  "kernelspec": {
   "display_name": "lapbrain",
   "language": "python",
   "name": "python3"
  },
  "language_info": {
   "codemirror_mode": {
    "name": "ipython",
    "version": 3
   },
   "file_extension": ".py",
   "mimetype": "text/x-python",
   "name": "python",
   "nbconvert_exporter": "python",
   "pygments_lexer": "ipython3",
   "version": "3.12.3"
  }
 },
 "nbformat": 4,
 "nbformat_minor": 5
}
