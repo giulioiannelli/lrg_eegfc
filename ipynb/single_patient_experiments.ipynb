{
 "cells": [
  {
   "cell_type": "code",
   "execution_count": 1,
   "id": "331e729f",
   "metadata": {},
   "outputs": [
    {
     "name": "stdout",
     "output_type": "stream",
     "text": [
      "Current working directory: /home/opisthofulax/Documents/research+/brain_network/lrg_eegfc\n"
     ]
    }
   ],
   "source": [
    "%matplotlib inline\n",
    "#\n",
    "from lrgsglib import *\n",
    "#\n",
    "move_to_rootf(pathname='lrg_eegfc')\n",
    "#\n",
    "from lrg_eegfc import *\n",
    "#\n",
    "path_figs = Path('data') / 'figures' / 'test'\n",
    "path_figs.mkdir(parents=True, exist_ok=True)"
   ]
  },
  {
   "cell_type": "markdown",
   "id": "99847b93",
   "metadata": {},
   "source": [
    "### Data Reader"
   ]
  },
  {
   "cell_type": "code",
   "execution_count": 2,
   "id": "0f79d282",
   "metadata": {},
   "outputs": [],
   "source": [
    "data_dict, int_label_pos_map = load_data_dict(\n",
    "    mat_path, patients_list, phase_labels, param_keys_list\n",
    ")"
   ]
  },
  {
   "cell_type": "markdown",
   "id": "2d448c8e",
   "metadata": {},
   "source": [
    "## Full pipeline protocol"
   ]
  },
  {
   "cell_type": "code",
   "execution_count": 3,
   "id": "6dbc0248",
   "metadata": {},
   "outputs": [],
   "source": [
    "ultraDist = {}"
   ]
  },
  {
   "cell_type": "code",
   "execution_count": 4,
   "id": "20095ebe",
   "metadata": {},
   "outputs": [],
   "source": [
    "patient = 'Pat_02'\n",
    "phase = 'rsPre'\n",
    "if patient not in ultraDist.keys():\n",
    "    ultraDist[patient] = {}\n",
    "if phase not in ultraDist[patient].keys():\n",
    "    ultraDist[patient][phase] = {}"
   ]
  },
  {
   "cell_type": "code",
   "execution_count": 15,
   "id": "ddf2eda2",
   "metadata": {},
   "outputs": [],
   "source": [
    "correlation_protocol = dict(threshold=0, spectral_cleaning=True)\n",
    "# Plot settings\n",
    "kw_thline = dict(color='b', linestyle='--', label=r'$\\mathcal{D}_{\\rm th}$')\n",
    "kw_draw_graph = dict(node_size=100, font_size=8, with_labels=False)\n",
    "kw_dentro = dict(above_threshold_color='k', leaf_font_size=5, orientation='top')"
   ]
  },
  {
   "cell_type": "code",
   "execution_count": 6,
   "id": "0c491433",
   "metadata": {},
   "outputs": [],
   "source": [
    "data_pat = data_dict[patient]\n",
    "pin_labels = int_label_pos_map[patient]['label']\n",
    "data_pat_phase = data_pat[phase]\n",
    "data_pat_phase_ts = data_pat_phase['data']\n",
    "fs = data_pat_phase['fs']"
   ]
  },
  {
   "cell_type": "markdown",
   "id": "ff5190b0",
   "metadata": {},
   "source": [
    "### Correlation matrix computation\n",
    "We use function `build_corrmat_single_band` to compute the correlation matrix of a timeseries $\\bm{X}(t)$  after filtering on a specific brain band, which are reported in the table below.\n",
    "\n",
    "| *BAND NAME*    | $\\delta$   | $\\theta$  | $\\alpha$      | $\\beta$      | $\\gamma_{\\rm l}$ | $\\gamma_{\\rm h}$ (HFO) |\n",
    "| -------------- | ---------- | --------- | ------------- | ------------ | ---------------- | ---------------------- |\n",
    "| *FREQUENCY*    | 0.53-4 Hz  | 4-8 Hz    | 8-13 Hz       | 13-30 Hz     | 30-80 Hz         | 80-300 Hz              |\n",
    "| *BRAIN STATE1* | Sleep      | Intuition | Visualization | Alertness    | Insight          | Memory recall          |\n",
    "| *BRAIN STATE2* | Healing    | Memory    | Relaxation    | Concetration | Synchronization  | Memory consolidation   |\n",
    "| *BRAIN STATE3* | Deep aware | Meditate  | Creativity    | Cognition    | Peak attention   | Epileptic seizure      |\n",
    "\n",
    "So after filtering the timeseries (for all the $N$ pins, of length $T$) with a band pass filter (Butterworth), we consider the timeseries per band $\\bm{X}_{b}(t)$. From these we compute the correlation matrix C_b\n",
    "\n",
    "perform a spectral cleaning using the Marchenko-Pastur distribution, cutting the eigenvalues that are indistinguishable from the gaussian process (ADD FORMULA)"
   ]
  },
  {
   "cell_type": "code",
   "execution_count": 7,
   "id": "f5fba41a",
   "metadata": {},
   "outputs": [
    {
     "name": "stderr",
     "output_type": "stream",
     "text": [
      "/home/opisthofulax/Documents/research+/brain_network/lrg_eegfc/lrgsglib/src/lrgsglib/utils/basic/signals.py:58: RuntimeWarning: Very narrow filter bandwidth (0.0034 of Nyquist). Consider reducing filter order or increasing bandwidth.\n",
      "  warnings.warn(\n"
     ]
    }
   ],
   "source": [
    "# Build correlation matrices per band\n",
    "corr_mat = build_corrmat_single_band(\n",
    "    data_pat_phase_ts,\n",
    "    fs,\n",
    "    BRAIN_BANDS['delta'],\n",
    "    jump_index=0,\n",
    "    corr_network_params=correlation_protocol,\n",
    "    filter_order=1\n",
    ")"
   ]
  },
  {
   "cell_type": "code",
   "execution_count": 8,
   "id": "bd054b8d",
   "metadata": {},
   "outputs": [
    {
     "data": {
      "text/plain": [
       "<matplotlib.colorbar.Colorbar at 0x74a22d584710>"
      ]
     },
     "execution_count": 8,
     "metadata": {},
     "output_type": "execute_result"
    },
    {
     "data": {
      "image/png": "[encoded data removed]",
      "text/plain": [
       "<Figure size 640x480 with 2 Axes>"
      ]
     },
     "metadata": {},
     "output_type": "display_data"
    }
   ],
   "source": [
    "plt.imshow(corr_mat)\n",
    "plt.colorbar()"
   ]
  },
  {
   "cell_type": "code",
   "execution_count": 26,
   "id": "03aab520",
   "metadata": {},
   "outputs": [
    {
     "name": "stdout",
     "output_type": "stream",
     "text": [
      "delta\r"
     ]
    },
    {
     "name": "stderr",
     "output_type": "stream",
     "text": [
      "/home/opisthofulax/Documents/research+/brain_network/lrg_eegfc/lrgsglib/src/lrgsglib/utils/basic/signals.py:58: RuntimeWarning: Very narrow filter bandwidth (0.0034 of Nyquist). Consider reducing filter order or increasing bandwidth.\n",
      "  warnings.warn(\n"
     ]
    },
    {
     "name": "stdout",
     "output_type": "stream",
     "text": [
      "theta\r"
     ]
    },
    {
     "name": "stderr",
     "output_type": "stream",
     "text": [
      "/home/opisthofulax/Documents/research+/brain_network/lrg_eegfc/lrgsglib/src/lrgsglib/utils/basic/signals.py:58: RuntimeWarning: Very narrow filter bandwidth (0.0039 of Nyquist). Consider reducing filter order or increasing bandwidth.\n",
      "  warnings.warn(\n"
     ]
    },
    {
     "name": "stdout",
     "output_type": "stream",
     "text": [
      "alpha\r"
     ]
    },
    {
     "name": "stderr",
     "output_type": "stream",
     "text": [
      "/home/opisthofulax/Documents/research+/brain_network/lrg_eegfc/lrgsglib/src/lrgsglib/utils/basic/signals.py:58: RuntimeWarning: Very narrow filter bandwidth (0.0049 of Nyquist). Consider reducing filter order or increasing bandwidth.\n",
      "  warnings.warn(\n"
     ]
    },
    {
     "name": "stdout",
     "output_type": "stream",
     "text": [
      "high_gamma\r"
     ]
    }
   ],
   "source": [
    "all_bands_networks = {}\n",
    "for band, (low_freq, high_freq) in BRAIN_BANDS.items():\n",
    "    print(band, flush=True, end='\\r')\n",
    "    #\n",
    "    result = process_network_for_phase(\n",
    "        data_pat_phase_ts, fs, band, correlation_protocol, \n",
    "        pin_labels, filter_order=1\n",
    "    )\n",
    "    G, label_dict, lnkgM, clTh, corr_mat, dists = result\n",
    "    # ultraDist[patient][phase][band] = extract_ultrametric_matrix(\n",
    "    #     lnkgM,\n",
    "    #     G.number_of_nodes()\n",
    "    # )\n",
    "    all_bands_networks[band] = {'G': G, 'linkage_matrix': lnkgM, 'clTh': clTh, 'corr_mat': corr_mat, 'dists': dists}"
   ]
  }
 ],
 "metadata": {
  "kernelspec": {
   "display_name": "lapbrain",
   "language": "python",
   "name": "python3"
  },
  "language_info": {
   "codemirror_mode": {
    "name": "ipython",
    "version": 3
   },
   "file_extension": ".py",
   "mimetype": "text/x-python",
   "name": "python",
   "nbconvert_exporter": "python",
   "pygments_lexer": "ipython3",
   "version": "3.12.3"
  }
 },
 "nbformat": 4,
 "nbformat_minor": 5
}
