{
 "cells": [
  {
   "cell_type": "markdown",
   "metadata": {},
   "source": [
    "# Ultrametric Matrix Distance: Patient Comparison\n",
    "\n",
    "Compute ultrametric matrix distances (euclidean, cosine, correlation) across phases for every patient, per EEG band.\n",
    "Plots show, for each band and metric, phase-by-phase distance matrices side-by-side for all patients."
   ]
  },
  {
   "cell_type": "code",
   "execution_count": null,
   "id": "ce4a7755",
   "metadata": {},
   "outputs": [],
   "source": [
    "%matplotlib inline\n",
    "#\n",
    "from lrgsglib import *\n",
    "#\n",
    "move_to_rootf(pathname='lrg_eegfc')\n",
    "#\n",
    "from lrg_eegfc import *\n",
    "# Figure output path\n",
    "path_figs = Path('data') / 'figures' / 'new_ultrametric_distance_pat_comparison'\n",
    "path_figs.mkdir(parents=True, exist_ok=True)\n",
    "#\n",
    "phase_labels = list(PHASE_LABELS)\n",
    "bands = list(BRAIN_BANDS.keys())\n",
    "patients = list(PATIENTS_LIST)\n",
    "metrics = ['euclidean', 'cosine', 'correlation']\n",
    "#\n",
    "correlation_protocol = dict(filter_type='abs', spectral_cleaning=False)\n",
    "#\n",
    "print(f'Patients: {patients}')\n",
    "print(f'Phases: {phase_labels}')\n",
    "print(f'Bands: {bands}')\n"
   ]
  },
  {
   "cell_type": "markdown",
   "id": "04df7cae",
   "metadata": {},
   "source": [
    "## Load Data"
   ]
  },
  {
   "cell_type": "code",
   "execution_count": null,
   "id": "4483f7a3",
   "metadata": {},
   "outputs": [],
   "source": [
    "data_dict, int_label_map = load_data_dict()\n",
    "print('✓ Data loaded')"
   ]
  },
  {
   "cell_type": "markdown",
   "id": "cbe1d4c9",
   "metadata": {},
   "source": [
    "## Build Ultrametric Matrices per Patient, Phase, Band"
   ]
  },
  {
   "cell_type": "code",
   "execution_count": null,
   "id": "93a40985",
   "metadata": {},
   "outputs": [],
   "source": [
    "def compute_ultrametrics_for_patient(patient: str, filter_order: int = 1):\n",
    "    \"\"\"\n",
    "    For a given patient, compute ultrametric matrices per (phase, band).\n",
    "    Returns a nested dict: U[band][phase] -> np.ndarray or None.\n",
    "    \"\"\"\n",
    "    U = {b: {} for b in bands}\n",
    "\n",
    "    # Labels for nodes (channel labels)\n",
    "    pin_labels = int_label_map[patient]['label']\n",
    "\n",
    "    for phase in phase_labels:\n",
    "        data_pat_phase = data_dict[patient][phase]\n",
    "        data_pat_phase_ts = data_pat_phase['data']\n",
    "        fs_raw = data_pat_phase.get('fs', None)\n",
    "        fs = float(np.asarray(fs_raw).flat[0]) if fs_raw is not None else 1000.0\n",
    "\n",
    "        for band in bands:\n",
    "            G, label_dict, lnkgM, clTh, corr_mat, dists = process_network_for_phase(\n",
    "                data_pat_phase_ts, fs, band, correlation_protocol, pin_labels, filter_order=filter_order\n",
    "            )\n",
    "            if lnkgM is None or G is None:\n",
    "                U[band][phase] = None\n",
    "                continue\n",
    "            try:\n",
    "                U[band][phase] = extract_ultrametric_matrix(lnkgM, G.number_of_nodes())\n",
    "            except Exception as e:\n",
    "                print(f'[WARN] {patient} {phase} {band}: failed to extract ultrametric ({e})')\n",
    "                U[band][phase] = None\n",
    "    return U\n",
    "\n",
    "# Compute for all patients\n",
    "ultra_by_pat = {}  # ultra_by_pat[patient][band][phase] -> U matrix or None\n",
    "for pat in patients:\n",
    "    print(f'Computing ultrametrics for {pat} ...')\n",
    "    ultra_by_pat[pat] = compute_ultrametrics_for_patient(pat)\n",
    "print('✓ Ultrametrics computed for all patients')"
   ]
  },
  {
   "cell_type": "markdown",
   "id": "7fff5bfd",
   "metadata": {},
   "source": [
    "## Phase Distance Matrices per Patient, Band, Metric"
   ]
  },
  {
   "cell_type": "code",
   "execution_count": null,
   "id": "50c4fdb9",
   "metadata": {},
   "outputs": [],
   "source": [
    "# results[metric][band][patient] -> (n_phase x n_phase) matrix\n",
    "results = {m: {b: {} for b in bands} for m in metrics}\n",
    "n = len(phase_labels)\n",
    "\n",
    "for metric in metrics:\n",
    "    print(f'Metric: {metric}')\n",
    "    for band in bands:\n",
    "        for pat in patients:\n",
    "            dm = np.full((n, n), np.nan, dtype=float)\n",
    "            for i, pi in enumerate(phase_labels):\n",
    "                for j, pj in enumerate(phase_labels):\n",
    "                    if i == j:\n",
    "                        dm[i, j] = 0.0\n",
    "                        continue\n",
    "                    U1 = ultra_by_pat[pat][band].get(pi)\n",
    "                    U2 = ultra_by_pat[pat][band].get(pj)\n",
    "                    if U1 is None or U2 is None or U1.shape != U2.shape:\n",
    "                        dm[i, j] = np.nan\n",
    "                    else:\n",
    "                        dm[i, j] = ultrametric_matrix_distance(U1, U2, metric=metric)\n",
    "            results[metric][band][pat] = dm\n",
    "    print('  ✓ done')\n",
    "print('✓ All phase-distance matrices computed')"
   ]
  },
  {
   "cell_type": "markdown",
   "id": "02884df0",
   "metadata": {},
   "source": [
    "## Plot: Side-by-Side Patients per Band and Metric"
   ]
  },
  {
   "cell_type": "code",
   "execution_count": null,
   "id": "bce51c99",
   "metadata": {},
   "outputs": [],
   "source": [
    "def plot_band_metric_side_by_side(metric: str, band: str):\n",
    "    # Determine shared color scale across patients (ignore NaNs)\n",
    "    vmax = 0.0\n",
    "    for pat in patients:\n",
    "        m = results[metric][band].get(pat)\n",
    "        if m is not None and np.isfinite(m).any():\n",
    "            vmax = max(vmax, np.nanmax(m))\n",
    "    if vmax == 0.0:\n",
    "        print(f'[SKIP] No finite values for {metric} / {band}')\n",
    "        return\n",
    "\n",
    "    fig, axes = plt.subplots(1, len(patients), figsize=(4*len(patients)+2, 4), constrained_layout=True)\n",
    "    if len(patients) == 1:\n",
    "        axes = [axes]\n",
    "\n",
    "    cmap = plt.cm.viridis.copy()\n",
    "    cmap.set_bad(color='lightgray')\n",
    "\n",
    "    for ax, pat in zip(axes, patients):\n",
    "        M = results[metric][band][pat]\n",
    "        im = ax.imshow(M, vmin=0.0, vmax=vmax, cmap=cmap, aspect='equal')\n",
    "        ax.set_title(f\"{pat}\")\n",
    "        ax.set_xticks(range(len(phase_labels)))\n",
    "        ax.set_yticks(range(len(phase_labels)))\n",
    "        ax.set_xticklabels(phase_labels, rotation=45, ha='right')\n",
    "        ax.set_yticklabels(phase_labels)\n",
    "        for spine in ax.spines.values():\n",
    "            spine.set_visible(False)\n",
    "\n",
    "    cbar = fig.colorbar(im, ax=axes, shrink=0.85)\n",
    "    cbar.set_label(f'{metric} distance')\n",
    "    band_label = BRAIN_BAND_LABELS.get(band, band)\n",
    "\n",
    "    outdir = path_figs / metric\n",
    "    outdir.mkdir(parents=True, exist_ok=True)\n",
    "    outfile = outdir / f'{band}.png'\n",
    "    fig.savefig(outfile, dpi=200, bbox_inches='tight')\n",
    "    plt.show()\n",
    "    print(f'Saved: {outfile}')\n",
    "\n",
    "# Generate all plots\n",
    "for metric in metrics:\n",
    "    for band in bands:\n",
    "        plot_band_metric_side_by_side(metric, band)\n",
    "\n",
    "print('✓ All figures generated')\n"
   ]
  },
  {
   "cell_type": "code",
   "execution_count": null,
   "id": "12ddb7c3",
   "metadata": {},
   "outputs": [],
   "source": [
    "patient = 'Pat_03'\n",
    "band = 'beta'\n",
    "filter_order = 1\n",
    "#\n",
    "store_dict = {}\n",
    "for phase in phase_labels:\n",
    "    pin_labels = int_label_map[patient]['label']\n",
    "    data_pat_phase = data_dict[patient][phase]\n",
    "    data_pat_phase_ts = data_pat_phase['data']\n",
    "    fs_raw = data_pat_phase.get('fs', None)\n",
    "    fs = float(np.asarray(fs_raw).flat[0]) if fs_raw is not None else 1000.0\n",
    "    G, label_dict, lnkgM, clTh, corr_mat, dists = process_network_for_phase(\n",
    "        data_pat_phase_ts, fs, band, correlation_protocol, pin_labels, filter_order=filter_order\n",
    "    )\n",
    "    store_dict[phase] = {\n",
    "        'G': G,\n",
    "        'lnkgM': lnkgM,\n",
    "        'clTh': clTh,\n",
    "        'corr_mat': corr_mat,\n",
    "        'dists': dists\n",
    "    }"
   ]
  },
  {
   "cell_type": "code",
   "execution_count": null,
   "id": "78324295",
   "metadata": {},
   "outputs": [],
   "source": [
    "fig, axes = plt.subplots(3, len(phase_labels), figsize=(5*len(phase_labels)+2, 16), constrained_layout=True)\n",
    "\n",
    "for phase in phase_labels:\n",
    "    ax_row = 0\n",
    "    ax_col = phase_labels.index(phase)\n",
    "    ax_corr = axes[ax_row, ax_col]\n",
    "    ax_ultra = axes[ax_row+1, ax_col]\n",
    "    ax_dendro = axes[ax_row+2, ax_col]\n",
    "\n",
    "    data_phase = store_dict[phase]\n",
    "    corr_mat = data_phase['corr_mat']\n",
    "    lnkgM = data_phase['lnkgM']\n",
    "\n",
    "    im1 = ax_corr.imshow(corr_mat, vmin=0.0, vmax=1.0, cmap='viridis', aspect='equal')\n",
    "    ax_corr.set_title(f'Corr: {phase}')\n",
    "    ax_corr.set_xticks([])\n",
    "    ax_corr.set_yticks([])\n",
    "    pos = nx.spring_layout(store_dict[phase]['G'], seed=42, k=0.05)\n",
    "    nx.draw(store_dict[phase]['G'], ax=ax_ultra, pos=pos, node_size=20, node_color='blue', with_labels=False)\n",
    "    lnkgM = store_dict[phase]['lnkgM']\n",
    "    res, *_ = compute_optimal_threshold(lnkgM)\n",
    "    dendro = dendrogram(lnkgM, ax=ax_dendro, color_threshold=res, above_threshold_color='k')\n",
    "    tmin = lnkgM[:, 2][0] * 0.8\n",
    "    tmax = lnkgM[:, 2][-1] * 1.01\n",
    "    ax_dendro.set_ylim(tmin, tmax)\n",
    "    ax_dendro.set_yscale('log')"
   ]
  },
  {
   "cell_type": "code",
   "execution_count": null,
   "id": "175535c8",
   "metadata": {},
   "outputs": [],
   "source": []
  }
 ],
 "metadata": {
  "kernelspec": {
   "display_name": "lapbrain",
   "language": "python",
   "name": "python3"
  },
  "language_info": {
   "codemirror_mode": {
    "name": "ipython",
    "version": 3
   },
   "file_extension": ".py",
   "mimetype": "text/x-python",
   "name": "python",
   "nbconvert_exporter": "python",
   "pygments_lexer": "ipython3",
   "version": "3.12.3"
  }
 },
 "nbformat": 4,
 "nbformat_minor": 5
}
