{
 "cells": [
  {
   "cell_type": "code",
   "execution_count": 1,
   "id": "b71cfcd3",
   "metadata": {},
   "outputs": [
    {
     "name": "stdout",
     "output_type": "stream",
     "text": [
      "/home/opisthofulax/Documents/research+/brain_network/lrg_eegfc\n"
     ]
    }
   ],
   "source": [
    "%matplotlib inline\n",
    "%load_ext autoreload\n",
    "%autoreload 2\n",
    "from lrgsglib.core import *\n",
    "#\n",
    "cwd = Path.cwd()\n",
    "while cwd.name != 'lrg_eegfc':\n",
    "    %cd ..\n",
    "    cwd = Path.cwd()\n",
    "#\n",
    "from src.lrg_eegfc.core import *\n",
    "#\n",
    "data_path = Path('data')\n",
    "fig_path = data_path / Path('figures')\n",
    "mat_path = Path('data') / 'stereoeeg_patients'\n",
    "patients_list = [p.name for p in Path(mat_path).iterdir() \n",
    "                 if p.is_dir() and p.name.startswith('Pat_')]\n",
    "#\n",
    "phase_labels = ['rsPre', 'taskLearn', 'taskTest', 'rsPost']\n",
    "param_keys_list = ['fs', 'fcutHigh', 'fcutLow', 'filter_order', 'NotchFilter', 'DataDimensions']"
   ]
  },
  {
   "cell_type": "code",
   "execution_count": 2,
   "id": "1680b0ec",
   "metadata": {},
   "outputs": [],
   "source": [
    "data_dict = {}\n",
    "int_label_pos_map = {}\n",
    "\n",
    "for pat in patients_list:\n",
    "    data_dict[pat] = {}\n",
    "    #\n",
    "    patnum = int(pat.split('_')[-1])\n",
    "    patpath = mat_path / pat\n",
    "    #\n",
    "    ch_dat = pd.read_csv(patpath / f'Implant_pat_{patnum}.csv')\n",
    "    ch_names = pd.read_csv(patpath / 'channel_labels.csv')\n",
    "    #\n",
    "    int_label_pos_map[pat] = ch_names.merge(ch_dat,on='label', how='left')\n",
    "    df = int_label_pos_map[pat][['x', 'y', 'z']]\n",
    "    df = df.apply(lambda s: s.str.replace(',', '.', regex=False).astype(float))\n",
    "    #\n",
    "    for phase in phase_labels:\n",
    "        data_dict[pat][phase] = {}\n",
    "        try:\n",
    "            # Load the .mat file using scipy.io.loadmat\n",
    "            # This is the preferred method for loading .mat files\n",
    "            tmp_mat = loadmat(str(mat_path / pat / f'{phase}'))\n",
    "        except Exception as e:\n",
    "            # If loading fails, fall back to h5py\n",
    "            print(f'{type(e).__name__} loading {pat} {phase}: {e}. ',\n",
    "                  f'Continuing with h5py', end='\\r', flush=True)\n",
    "            tmp_mat = {}\n",
    "            f = h5py.File(mat_path / pat / f'{phase}.mat')\n",
    "            for k, v in f.items():\n",
    "                tmp_mat[k] = np.array(v)\n",
    "            pass\n",
    "        data_dict[pat][phase]['data'] = tmp_mat['Data']\n",
    "        tmp_shape = data_dict[pat][phase]['data'].shape\n",
    "        if tmp_shape[0] > tmp_shape[1]:\n",
    "            # Transpose the data if the first dimension is bigger\n",
    "            data_dict[pat][phase]['data'] = data_dict[pat][phase]['data'].T\n",
    "        try:\n",
    "            # Extract the parameters from the loaded data\n",
    "            # Check if 'Parameters' is in the loaded data\n",
    "            # If not, skip to the next iteration\n",
    "            for param in tmp_mat['Parameters'].dtype.names:\n",
    "                if param in param_keys_list:\n",
    "                    data_dict[pat][phase][param] = tmp_mat['Parameters'][param][0][0][0][0]\n",
    "        except:\n",
    "            print(f'No parameters found for {pat} {phase}', end='\\r', flush=True)\n",
    "            continue"
   ]
  },
  {
   "cell_type": "code",
   "execution_count": 3,
   "id": "3b85bb67",
   "metadata": {},
   "outputs": [],
   "source": [
    "pat = 'Pat_02'\n",
    "band_name = 'delta'\n",
    "filttime = -1"
   ]
  },
  {
   "cell_type": "code",
   "execution_count": 4,
   "id": "a4a84854",
   "metadata": {},
   "outputs": [
    {
     "name": "stdout",
     "output_type": "stream",
     "text": [
      "Processing Pat_02 rsPre...\r"
     ]
    },
    {
     "name": "stderr",
     "output_type": "stream",
     "text": [
      "Computing threshold stats: 100%|██████████| 117/117 [00:02<00:00, 44.90it/s]\n",
      "Computing threshold stats: 100%|██████████| 117/117 [00:02<00:00, 55.31it/s]\n",
      "Computing threshold stats: 100%|██████████| 117/117 [00:02<00:00, 44.32it/s]\n",
      "Computing threshold stats: 100%|██████████| 117/117 [00:02<00:00, 49.18it/s]\n",
      "Computing threshold stats: 100%|██████████| 117/117 [00:03<00:00, 36.84it/s]\n",
      "Computing threshold stats: 100%|██████████| 117/117 [00:02<00:00, 53.26it/s]\n",
      "Computing threshold stats: 100%|██████████| 117/117 [00:02<00:00, 39.17it/s]\n",
      "Computing threshold stats: 100%|██████████| 117/117 [00:02<00:00, 53.82it/s]\n",
      "Computing threshold stats: 100%|██████████| 117/117 [00:02<00:00, 41.16it/s]\n",
      "Computing threshold stats: 100%|██████████| 117/117 [00:02<00:00, 44.99it/s]\n",
      "Computing threshold stats: 100%|██████████| 117/117 [00:02<00:00, 44.53it/s]\n",
      "Computing threshold stats: 100%|██████████| 117/117 [00:01<00:00, 66.08it/s]"
     ]
    },
    {
     "name": "stdout",
     "output_type": "stream",
     "text": [
      "Processing Pat_02 taskLearn...\r"
     ]
    },
    {
     "name": "stderr",
     "output_type": "stream",
     "text": [
      "\n",
      "Computing threshold stats: 100%|██████████| 117/117 [00:02<00:00, 39.13it/s]\n",
      "Computing threshold stats: 100%|██████████| 117/117 [00:01<00:00, 78.41it/s] \n",
      "Computing threshold stats: 100%|██████████| 117/117 [00:02<00:00, 39.17it/s]\n",
      "Computing threshold stats: 100%|██████████| 117/117 [00:01<00:00, 68.21it/s]\n",
      "Computing threshold stats: 100%|██████████| 117/117 [00:03<00:00, 38.70it/s]\n",
      "Computing threshold stats: 100%|██████████| 117/117 [00:02<00:00, 51.93it/s]\n",
      "Computing threshold stats: 100%|██████████| 117/117 [00:02<00:00, 43.85it/s]\n",
      "Computing threshold stats: 100%|██████████| 117/117 [00:02<00:00, 45.18it/s]\n",
      "Computing threshold stats: 100%|██████████| 117/117 [00:02<00:00, 43.58it/s]\n",
      "Computing threshold stats: 100%|██████████| 117/117 [00:02<00:00, 46.50it/s]\n",
      "Computing threshold stats: 100%|██████████| 117/117 [00:02<00:00, 39.03it/s]\n",
      "Computing threshold stats: 100%|██████████| 117/117 [00:01<00:00, 81.58it/s]"
     ]
    },
    {
     "name": "stdout",
     "output_type": "stream",
     "text": [
      "Processing Pat_02 taskTest...\r"
     ]
    },
    {
     "name": "stderr",
     "output_type": "stream",
     "text": [
      "\n",
      "Computing threshold stats: 100%|██████████| 117/117 [00:03<00:00, 35.20it/s]\n",
      "Computing threshold stats: 100%|██████████| 117/117 [00:01<00:00, 73.22it/s]\n",
      "Computing threshold stats: 100%|██████████| 117/117 [00:02<00:00, 40.59it/s]\n",
      "Computing threshold stats: 100%|██████████| 117/117 [00:02<00:00, 54.53it/s]\n",
      "Computing threshold stats: 100%|██████████| 117/117 [00:02<00:00, 42.34it/s]\n",
      "Computing threshold stats: 100%|██████████| 117/117 [00:02<00:00, 48.38it/s]\n",
      "Computing threshold stats: 100%|██████████| 117/117 [00:03<00:00, 36.96it/s]\n",
      "Computing threshold stats: 100%|██████████| 117/117 [00:02<00:00, 58.13it/s]\n",
      "Computing threshold stats: 100%|██████████| 117/117 [00:03<00:00, 38.28it/s]\n",
      "Computing threshold stats: 100%|██████████| 117/117 [00:02<00:00, 52.71it/s]\n",
      "Computing threshold stats: 100%|██████████| 117/117 [00:03<00:00, 38.03it/s]\n",
      "Computing threshold stats: 100%|██████████| 117/117 [00:01<00:00, 66.43it/s]"
     ]
    },
    {
     "name": "stdout",
     "output_type": "stream",
     "text": [
      "Processing Pat_02 rsPost...\r"
     ]
    },
    {
     "name": "stderr",
     "output_type": "stream",
     "text": [
      "\n",
      "Computing threshold stats: 100%|██████████| 117/117 [00:02<00:00, 44.15it/s]\n",
      "Computing threshold stats: 100%|██████████| 117/117 [00:02<00:00, 57.18it/s]\n",
      "Computing threshold stats: 100%|██████████| 117/117 [00:02<00:00, 43.80it/s]\n",
      "Computing threshold stats: 100%|██████████| 117/117 [00:02<00:00, 50.73it/s]\n",
      "Computing threshold stats: 100%|██████████| 117/117 [00:03<00:00, 38.17it/s]\n",
      "Computing threshold stats: 100%|██████████| 117/117 [00:02<00:00, 54.59it/s]\n",
      "Computing threshold stats: 100%|██████████| 117/117 [00:03<00:00, 37.27it/s]\n",
      "Computing threshold stats: 100%|██████████| 117/117 [00:02<00:00, 57.74it/s]\n",
      "Computing threshold stats: 100%|██████████| 117/117 [00:02<00:00, 39.73it/s]\n",
      "Computing threshold stats: 100%|██████████| 117/117 [00:02<00:00, 44.27it/s]\n",
      "Computing threshold stats: 100%|██████████| 117/117 [00:02<00:00, 45.14it/s]\n",
      "Computing threshold stats: 100%|██████████| 117/117 [00:01<00:00, 65.68it/s]\n"
     ]
    }
   ],
   "source": [
    "corr_nets = {}\n",
    "corr_nets_th = {}\n",
    "corr_nets_unfilt = {}\n",
    "for phase in phase_labels:\n",
    "    print(f'Processing {pat} {phase}...', end='\\r', flush=True)\n",
    "    corr_nets[phase] = {}\n",
    "    corr_nets_th[phase] = {}\n",
    "    corr_nets_unfilt[phase] = {}\n",
    "    for band_name, (low, high) in BRAIN_BANDS.items():\n",
    "        # low, high = BRAIN_BANDS[band_name]\n",
    "        try:\n",
    "            sample_rate = data_dict[pat][phase]['fs']\n",
    "            filter_order = data_dict[pat][phase]['filter_order']\n",
    "            data = data_dict[pat][phase]['data'][:, :filttime]\n",
    "            filt = bandpass_sos(data, low, high, sample_rate, int(filter_order))\n",
    "            assert not np.allclose(filt, data, rtol=1e-5, atol=1e-8), \\\n",
    "                f'Band-pass output is indistinguishable from input in {band_name} band'\n",
    "        except AssertionError as e:\n",
    "            print(f'Band-pass output is indistinguishable from input in {band_name} band: {e}')\n",
    "            continue\n",
    "        C_unfilt = build_corr_network(filt)\n",
    "        C_filt_th = build_corr_network(filt, threshold=0)\n",
    "        C_filt = build_corr_network(filt, threshold=None, filter_type='abs')\n",
    "        G_filt = nx.from_numpy_array(C_filt)\n",
    "        G_filt_th = nx.from_numpy_array(C_filt_th)\n",
    "        #\n",
    "        Th, Einf, Pinf = compute_threshold_stats(G_filt)\n",
    "        Pinf_diff = np.diff(Pinf)\n",
    "        jumps = np.where(Pinf_diff != 0)[0]\n",
    "        #\n",
    "        C_tmp = C_filt.copy()\n",
    "        C_tmp = build_corr_network(C_tmp, threshold=Th[jumps[0]-1])\n",
    "        #\n",
    "        corr_nets_unfilt[phase][band_name] = C_unfilt\n",
    "        corr_nets[phase][band_name] = C_tmp\n",
    "        #\n",
    "        Th, Einf, Pinf = compute_threshold_stats(G_filt_th)\n",
    "        Pinf_diff = np.diff(Pinf)\n",
    "        jumps = np.where(Pinf_diff != 0)[0]\n",
    "        #\n",
    "        C_tmp = C_filt_th.copy()\n",
    "        C_tmp = build_corr_network(C_tmp, threshold=Th[jumps[0]-1])\n",
    "        #\n",
    "        corr_nets_th[phase][band_name] = C_tmp"
   ]
  },
  {
   "cell_type": "code",
   "execution_count": 21,
   "id": "bd5019e5",
   "metadata": {},
   "outputs": [
    {
     "name": "stderr",
     "output_type": "stream",
     "text": [
      "/home/opisthofulax/Documents/research+/brain_network/lrg_eegfc/lrgsglib/src/lrgsglib/utils/funcs/infocomm.py:32: RuntimeWarning: divide by zero encountered in log\n",
      "  S[i] = -np.nansum(rho * np.log(rho)) / np.log(N)\n",
      "/home/opisthofulax/Documents/research+/brain_network/lrg_eegfc/lrgsglib/src/lrgsglib/utils/funcs/infocomm.py:32: RuntimeWarning: invalid value encountered in multiply\n",
      "  S[i] = -np.nansum(rho * np.log(rho)) / np.log(N)\n"
     ]
    },
    {
     "name": "stdout",
     "output_type": "stream",
     "text": [
      "117\n",
      "117\n"
     ]
    },
    {
     "name": "stderr",
     "output_type": "stream",
     "text": [
      "/home/opisthofulax/Documents/research+/brain_network/lrg_eegfc/lrgsglib/src/lrgsglib/utils/funcs/infocomm.py:32: RuntimeWarning: divide by zero encountered in log\n",
      "  S[i] = -np.nansum(rho * np.log(rho)) / np.log(N)\n",
      "/home/opisthofulax/Documents/research+/brain_network/lrg_eegfc/lrgsglib/src/lrgsglib/utils/funcs/infocomm.py:32: RuntimeWarning: invalid value encountered in multiply\n",
      "  S[i] = -np.nansum(rho * np.log(rho)) / np.log(N)\n",
      "/home/opisthofulax/Documents/research+/brain_network/lrg_eegfc/lrgsglib/src/lrgsglib/utils/funcs/infocomm.py:32: RuntimeWarning: divide by zero encountered in log\n",
      "  S[i] = -np.nansum(rho * np.log(rho)) / np.log(N)\n",
      "/home/opisthofulax/Documents/research+/brain_network/lrg_eegfc/lrgsglib/src/lrgsglib/utils/funcs/infocomm.py:32: RuntimeWarning: invalid value encountered in multiply\n",
      "  S[i] = -np.nansum(rho * np.log(rho)) / np.log(N)\n"
     ]
    },
    {
     "name": "stdout",
     "output_type": "stream",
     "text": [
      "117\n",
      "117\n"
     ]
    },
    {
     "name": "stderr",
     "output_type": "stream",
     "text": [
      "/home/opisthofulax/Documents/research+/brain_network/lrg_eegfc/lrgsglib/src/lrgsglib/utils/funcs/infocomm.py:32: RuntimeWarning: divide by zero encountered in log\n",
      "  S[i] = -np.nansum(rho * np.log(rho)) / np.log(N)\n",
      "/home/opisthofulax/Documents/research+/brain_network/lrg_eegfc/lrgsglib/src/lrgsglib/utils/funcs/infocomm.py:32: RuntimeWarning: invalid value encountered in multiply\n",
      "  S[i] = -np.nansum(rho * np.log(rho)) / np.log(N)\n",
      "/tmp/ipykernel_144460/52776916.py:91: UserWarning: This figure includes Axes that are not compatible with tight_layout, so results might be incorrect.\n",
      "  fig.tight_layout()\n",
      "/home/opisthofulax/Documents/research+/brain_network/lrg_eegfc/lrgsglib/src/lrgsglib/utils/funcs/infocomm.py:32: RuntimeWarning: divide by zero encountered in log\n",
      "  S[i] = -np.nansum(rho * np.log(rho)) / np.log(N)\n",
      "/home/opisthofulax/Documents/research+/brain_network/lrg_eegfc/lrgsglib/src/lrgsglib/utils/funcs/infocomm.py:32: RuntimeWarning: invalid value encountered in multiply\n",
      "  S[i] = -np.nansum(rho * np.log(rho)) / np.log(N)\n"
     ]
    },
    {
     "name": "stdout",
     "output_type": "stream",
     "text": [
      "117\n"
     ]
    },
    {
     "name": "stderr",
     "output_type": "stream",
     "text": [
      "/home/opisthofulax/Documents/research+/brain_network/lrg_eegfc/lrgsglib/src/lrgsglib/utils/funcs/infocomm.py:32: RuntimeWarning: divide by zero encountered in log\n",
      "  S[i] = -np.nansum(rho * np.log(rho)) / np.log(N)\n",
      "/home/opisthofulax/Documents/research+/brain_network/lrg_eegfc/lrgsglib/src/lrgsglib/utils/funcs/infocomm.py:32: RuntimeWarning: invalid value encountered in multiply\n",
      "  S[i] = -np.nansum(rho * np.log(rho)) / np.log(N)\n",
      "/home/opisthofulax/Documents/research+/brain_network/lrg_eegfc/lrgsglib/src/lrgsglib/utils/funcs/infocomm.py:32: RuntimeWarning: divide by zero encountered in log\n",
      "  S[i] = -np.nansum(rho * np.log(rho)) / np.log(N)\n",
      "/home/opisthofulax/Documents/research+/brain_network/lrg_eegfc/lrgsglib/src/lrgsglib/utils/funcs/infocomm.py:32: RuntimeWarning: invalid value encountered in multiply\n",
      "  S[i] = -np.nansum(rho * np.log(rho)) / np.log(N)\n"
     ]
    },
    {
     "name": "stdout",
     "output_type": "stream",
     "text": [
      "117\n",
      "117\n"
     ]
    },
    {
     "name": "stderr",
     "output_type": "stream",
     "text": [
      "/home/opisthofulax/Documents/research+/brain_network/lrg_eegfc/lrgsglib/src/lrgsglib/utils/funcs/infocomm.py:32: RuntimeWarning: divide by zero encountered in log\n",
      "  S[i] = -np.nansum(rho * np.log(rho)) / np.log(N)\n",
      "/home/opisthofulax/Documents/research+/brain_network/lrg_eegfc/lrgsglib/src/lrgsglib/utils/funcs/infocomm.py:32: RuntimeWarning: invalid value encountered in multiply\n",
      "  S[i] = -np.nansum(rho * np.log(rho)) / np.log(N)\n",
      "/tmp/ipykernel_144460/52776916.py:91: UserWarning: This figure includes Axes that are not compatible with tight_layout, so results might be incorrect.\n",
      "  fig.tight_layout()\n"
     ]
    },
    {
     "name": "stdout",
     "output_type": "stream",
     "text": [
      "117\n"
     ]
    },
    {
     "name": "stderr",
     "output_type": "stream",
     "text": [
      "/home/opisthofulax/Documents/research+/brain_network/lrg_eegfc/lrgsglib/src/lrgsglib/utils/funcs/infocomm.py:32: RuntimeWarning: divide by zero encountered in log\n",
      "  S[i] = -np.nansum(rho * np.log(rho)) / np.log(N)\n",
      "/home/opisthofulax/Documents/research+/brain_network/lrg_eegfc/lrgsglib/src/lrgsglib/utils/funcs/infocomm.py:32: RuntimeWarning: invalid value encountered in multiply\n",
      "  S[i] = -np.nansum(rho * np.log(rho)) / np.log(N)\n"
     ]
    },
    {
     "name": "stdout",
     "output_type": "stream",
     "text": [
      "117\n"
     ]
    },
    {
     "name": "stderr",
     "output_type": "stream",
     "text": [
      "/home/opisthofulax/Documents/research+/brain_network/lrg_eegfc/lrgsglib/src/lrgsglib/utils/funcs/infocomm.py:32: RuntimeWarning: divide by zero encountered in log\n",
      "  S[i] = -np.nansum(rho * np.log(rho)) / np.log(N)\n",
      "/home/opisthofulax/Documents/research+/brain_network/lrg_eegfc/lrgsglib/src/lrgsglib/utils/funcs/infocomm.py:32: RuntimeWarning: invalid value encountered in multiply\n",
      "  S[i] = -np.nansum(rho * np.log(rho)) / np.log(N)\n"
     ]
    },
    {
     "name": "stdout",
     "output_type": "stream",
     "text": [
      "117\n"
     ]
    },
    {
     "name": "stderr",
     "output_type": "stream",
     "text": [
      "/home/opisthofulax/Documents/research+/brain_network/lrg_eegfc/lrgsglib/src/lrgsglib/utils/funcs/infocomm.py:32: RuntimeWarning: divide by zero encountered in log\n",
      "  S[i] = -np.nansum(rho * np.log(rho)) / np.log(N)\n",
      "/home/opisthofulax/Documents/research+/brain_network/lrg_eegfc/lrgsglib/src/lrgsglib/utils/funcs/infocomm.py:32: RuntimeWarning: invalid value encountered in multiply\n",
      "  S[i] = -np.nansum(rho * np.log(rho)) / np.log(N)\n"
     ]
    },
    {
     "name": "stdout",
     "output_type": "stream",
     "text": [
      "117\n"
     ]
    },
    {
     "name": "stderr",
     "output_type": "stream",
     "text": [
      "/home/opisthofulax/Documents/research+/brain_network/lrg_eegfc/lrgsglib/src/lrgsglib/utils/funcs/infocomm.py:32: RuntimeWarning: divide by zero encountered in log\n",
      "  S[i] = -np.nansum(rho * np.log(rho)) / np.log(N)\n",
      "/home/opisthofulax/Documents/research+/brain_network/lrg_eegfc/lrgsglib/src/lrgsglib/utils/funcs/infocomm.py:32: RuntimeWarning: invalid value encountered in multiply\n",
      "  S[i] = -np.nansum(rho * np.log(rho)) / np.log(N)\n"
     ]
    },
    {
     "name": "stdout",
     "output_type": "stream",
     "text": [
      "117\n"
     ]
    },
    {
     "name": "stderr",
     "output_type": "stream",
     "text": [
      "/tmp/ipykernel_144460/52776916.py:91: UserWarning: This figure includes Axes that are not compatible with tight_layout, so results might be incorrect.\n",
      "  fig.tight_layout()\n",
      "/home/opisthofulax/Documents/research+/brain_network/lrg_eegfc/lrgsglib/src/lrgsglib/utils/funcs/infocomm.py:32: RuntimeWarning: divide by zero encountered in log\n",
      "  S[i] = -np.nansum(rho * np.log(rho)) / np.log(N)\n",
      "/home/opisthofulax/Documents/research+/brain_network/lrg_eegfc/lrgsglib/src/lrgsglib/utils/funcs/infocomm.py:32: RuntimeWarning: invalid value encountered in multiply\n",
      "  S[i] = -np.nansum(rho * np.log(rho)) / np.log(N)\n"
     ]
    },
    {
     "name": "stdout",
     "output_type": "stream",
     "text": [
      "117\n"
     ]
    },
    {
     "name": "stderr",
     "output_type": "stream",
     "text": [
      "/home/opisthofulax/Documents/research+/brain_network/lrg_eegfc/lrgsglib/src/lrgsglib/utils/funcs/infocomm.py:32: RuntimeWarning: divide by zero encountered in log\n",
      "  S[i] = -np.nansum(rho * np.log(rho)) / np.log(N)\n",
      "/home/opisthofulax/Documents/research+/brain_network/lrg_eegfc/lrgsglib/src/lrgsglib/utils/funcs/infocomm.py:32: RuntimeWarning: invalid value encountered in multiply\n",
      "  S[i] = -np.nansum(rho * np.log(rho)) / np.log(N)\n"
     ]
    },
    {
     "name": "stdout",
     "output_type": "stream",
     "text": [
      "109\n"
     ]
    },
    {
     "name": "stderr",
     "output_type": "stream",
     "text": [
      "/home/opisthofulax/Documents/research+/brain_network/lrg_eegfc/lrgsglib/src/lrgsglib/utils/funcs/infocomm.py:32: RuntimeWarning: divide by zero encountered in log\n",
      "  S[i] = -np.nansum(rho * np.log(rho)) / np.log(N)\n",
      "/home/opisthofulax/Documents/research+/brain_network/lrg_eegfc/lrgsglib/src/lrgsglib/utils/funcs/infocomm.py:32: RuntimeWarning: invalid value encountered in multiply\n",
      "  S[i] = -np.nansum(rho * np.log(rho)) / np.log(N)\n"
     ]
    },
    {
     "name": "stdout",
     "output_type": "stream",
     "text": [
      "109\n"
     ]
    },
    {
     "name": "stderr",
     "output_type": "stream",
     "text": [
      "/home/opisthofulax/Documents/research+/brain_network/lrg_eegfc/lrgsglib/src/lrgsglib/utils/funcs/infocomm.py:32: RuntimeWarning: divide by zero encountered in log\n",
      "  S[i] = -np.nansum(rho * np.log(rho)) / np.log(N)\n",
      "/home/opisthofulax/Documents/research+/brain_network/lrg_eegfc/lrgsglib/src/lrgsglib/utils/funcs/infocomm.py:32: RuntimeWarning: invalid value encountered in multiply\n",
      "  S[i] = -np.nansum(rho * np.log(rho)) / np.log(N)\n",
      "/tmp/ipykernel_144460/52776916.py:91: UserWarning: This figure includes Axes that are not compatible with tight_layout, so results might be incorrect.\n",
      "  fig.tight_layout()\n"
     ]
    },
    {
     "name": "stdout",
     "output_type": "stream",
     "text": [
      "117\n"
     ]
    },
    {
     "name": "stderr",
     "output_type": "stream",
     "text": [
      "/home/opisthofulax/Documents/research+/brain_network/lrg_eegfc/lrgsglib/src/lrgsglib/utils/funcs/infocomm.py:32: RuntimeWarning: divide by zero encountered in log\n",
      "  S[i] = -np.nansum(rho * np.log(rho)) / np.log(N)\n",
      "/home/opisthofulax/Documents/research+/brain_network/lrg_eegfc/lrgsglib/src/lrgsglib/utils/funcs/infocomm.py:32: RuntimeWarning: invalid value encountered in multiply\n",
      "  S[i] = -np.nansum(rho * np.log(rho)) / np.log(N)\n"
     ]
    },
    {
     "name": "stdout",
     "output_type": "stream",
     "text": [
      "109\n"
     ]
    },
    {
     "name": "stderr",
     "output_type": "stream",
     "text": [
      "/home/opisthofulax/Documents/research+/brain_network/lrg_eegfc/lrgsglib/src/lrgsglib/utils/funcs/infocomm.py:32: RuntimeWarning: divide by zero encountered in log\n",
      "  S[i] = -np.nansum(rho * np.log(rho)) / np.log(N)\n",
      "/home/opisthofulax/Documents/research+/brain_network/lrg_eegfc/lrgsglib/src/lrgsglib/utils/funcs/infocomm.py:32: RuntimeWarning: invalid value encountered in multiply\n",
      "  S[i] = -np.nansum(rho * np.log(rho)) / np.log(N)\n"
     ]
    },
    {
     "name": "stdout",
     "output_type": "stream",
     "text": [
      "117\n"
     ]
    },
    {
     "name": "stderr",
     "output_type": "stream",
     "text": [
      "/home/opisthofulax/Documents/research+/brain_network/lrg_eegfc/lrgsglib/src/lrgsglib/utils/funcs/infocomm.py:32: RuntimeWarning: divide by zero encountered in log\n",
      "  S[i] = -np.nansum(rho * np.log(rho)) / np.log(N)\n",
      "/home/opisthofulax/Documents/research+/brain_network/lrg_eegfc/lrgsglib/src/lrgsglib/utils/funcs/infocomm.py:32: RuntimeWarning: invalid value encountered in multiply\n",
      "  S[i] = -np.nansum(rho * np.log(rho)) / np.log(N)\n"
     ]
    },
    {
     "name": "stdout",
     "output_type": "stream",
     "text": [
      "109\n"
     ]
    },
    {
     "name": "stderr",
     "output_type": "stream",
     "text": [
      "/home/opisthofulax/Documents/research+/brain_network/lrg_eegfc/lrgsglib/src/lrgsglib/utils/funcs/infocomm.py:32: RuntimeWarning: divide by zero encountered in log\n",
      "  S[i] = -np.nansum(rho * np.log(rho)) / np.log(N)\n",
      "/home/opisthofulax/Documents/research+/brain_network/lrg_eegfc/lrgsglib/src/lrgsglib/utils/funcs/infocomm.py:32: RuntimeWarning: invalid value encountered in multiply\n",
      "  S[i] = -np.nansum(rho * np.log(rho)) / np.log(N)\n"
     ]
    },
    {
     "name": "stdout",
     "output_type": "stream",
     "text": [
      "117\n"
     ]
    },
    {
     "name": "stderr",
     "output_type": "stream",
     "text": [
      "/tmp/ipykernel_144460/52776916.py:91: UserWarning: This figure includes Axes that are not compatible with tight_layout, so results might be incorrect.\n",
      "  fig.tight_layout()\n",
      "/home/opisthofulax/Documents/research+/brain_network/lrg_eegfc/lrgsglib/src/lrgsglib/utils/funcs/infocomm.py:32: RuntimeWarning: divide by zero encountered in log\n",
      "  S[i] = -np.nansum(rho * np.log(rho)) / np.log(N)\n",
      "/home/opisthofulax/Documents/research+/brain_network/lrg_eegfc/lrgsglib/src/lrgsglib/utils/funcs/infocomm.py:32: RuntimeWarning: invalid value encountered in multiply\n",
      "  S[i] = -np.nansum(rho * np.log(rho)) / np.log(N)\n",
      "/home/opisthofulax/Documents/research+/brain_network/lrg_eegfc/lrgsglib/src/lrgsglib/utils/funcs/infocomm.py:32: RuntimeWarning: divide by zero encountered in log\n",
      "  S[i] = -np.nansum(rho * np.log(rho)) / np.log(N)\n",
      "/home/opisthofulax/Documents/research+/brain_network/lrg_eegfc/lrgsglib/src/lrgsglib/utils/funcs/infocomm.py:32: RuntimeWarning: invalid value encountered in multiply\n",
      "  S[i] = -np.nansum(rho * np.log(rho)) / np.log(N)\n"
     ]
    },
    {
     "name": "stdout",
     "output_type": "stream",
     "text": [
      "99\n",
      "61\n"
     ]
    },
    {
     "name": "stderr",
     "output_type": "stream",
     "text": [
      "/home/opisthofulax/Documents/research+/brain_network/lrg_eegfc/lrgsglib/src/lrgsglib/utils/funcs/infocomm.py:32: RuntimeWarning: divide by zero encountered in log\n",
      "  S[i] = -np.nansum(rho * np.log(rho)) / np.log(N)\n",
      "/home/opisthofulax/Documents/research+/brain_network/lrg_eegfc/lrgsglib/src/lrgsglib/utils/funcs/infocomm.py:32: RuntimeWarning: invalid value encountered in multiply\n",
      "  S[i] = -np.nansum(rho * np.log(rho)) / np.log(N)\n"
     ]
    },
    {
     "name": "stdout",
     "output_type": "stream",
     "text": [
      "117\n"
     ]
    },
    {
     "name": "stderr",
     "output_type": "stream",
     "text": [
      "/home/opisthofulax/Documents/research+/brain_network/lrg_eegfc/lrgsglib/src/lrgsglib/utils/funcs/infocomm.py:32: RuntimeWarning: divide by zero encountered in log\n",
      "  S[i] = -np.nansum(rho * np.log(rho)) / np.log(N)\n",
      "/home/opisthofulax/Documents/research+/brain_network/lrg_eegfc/lrgsglib/src/lrgsglib/utils/funcs/infocomm.py:32: RuntimeWarning: invalid value encountered in multiply\n",
      "  S[i] = -np.nansum(rho * np.log(rho)) / np.log(N)\n",
      "/tmp/ipykernel_144460/52776916.py:91: UserWarning: This figure includes Axes that are not compatible with tight_layout, so results might be incorrect.\n",
      "  fig.tight_layout()\n"
     ]
    },
    {
     "name": "stdout",
     "output_type": "stream",
     "text": [
      "117\n"
     ]
    }
   ],
   "source": [
    "# band = 'low_gamma'\n",
    "for band_name in BRAIN_BANDS.keys():\n",
    "    fig, ax = plt.subplots(2, len(phase_labels), figsize=(25, 10), height_ratios=[1, 2])\n",
    "    for i, phase in enumerate(phase_labels):\n",
    "        Gcc = get_giant_component(nx.from_numpy_array(corr_nets[phase][band_name])) \n",
    "        net_ent = entropy(Gcc, t1=-3, t2=6)\n",
    "        tau_scale = net_ent[-1]\n",
    "        speC = net_ent[1]\n",
    "        # laplacian-based distances\n",
    "        spectrum, L, rho, Trho, tau = compute_laplacian_properties(Gcc, tau=None)\n",
    "        dists = squareform(Trho)\n",
    "        linkage_matrix, label_list, _ = compute_normalized_linkage(dists, Gcc, method='ward')\n",
    "        FlatClusteringTh, *_ = compute_optimal_threshold(linkage_matrix)\n",
    "        FlatClusteringTh *= 2\n",
    "        optimal_clusters = fcluster(linkage_matrix, t=FlatClusteringTh, criterion='distance')\n",
    "        #\n",
    "        # 1. compute cluster sizes\n",
    "        unique, counts = np.unique(optimal_clusters, return_counts=True)\n",
    "        size_map = dict(zip(unique, counts))\n",
    "\n",
    "        # 2. sort cluster labels by size descending\n",
    "        sorted_clusters = sorted(size_map, key=lambda lbl: size_map[lbl], reverse=True)\n",
    "\n",
    "        # 3. define your palette in order\n",
    "        palette = ['red', 'orange', 'green', 'blue', 'purple', 'brown']  # extend as needed\n",
    "\n",
    "        # 4. map each cluster to its color\n",
    "        cluster_color = {\n",
    "            lbl: palette[i]\n",
    "            for i, lbl in enumerate(sorted_clusters)\n",
    "            if i < len(palette)\n",
    "        }\n",
    "\n",
    "        # 5. build node→leaves map\n",
    "        n_leaves = linkage_matrix.shape[0] + 1\n",
    "        leafs = {i: [i] for i in range(n_leaves)}\n",
    "        for node_id, (l, r, *_) in enumerate(linkage_matrix, start=n_leaves):\n",
    "            leafs[node_id] = leafs[int(l)] + leafs[int(r)]\n",
    "\n",
    "        # 6. link_color_func uses the discrete mapping\n",
    "        def link_color_func(node_id):\n",
    "            lbls = np.unique(optimal_clusters[leafs[node_id]])\n",
    "            if lbls.size == 1:\n",
    "                return cluster_color.get(lbls[0], 'lightgrey')\n",
    "            return 'lightgrey'\n",
    "        #\n",
    "        dendro = dendrogram(\n",
    "            linkage_matrix,\n",
    "            ax=ax[0][i],\n",
    "            link_color_func=link_color_func,\n",
    "            color_threshold=None,\n",
    "            leaf_font_size=9,\n",
    "            orientation='top',\n",
    "            no_labels=True,\n",
    "        )\n",
    "        leaf_label_colors = {\n",
    "            lbl: col for lbl, col in zip(dendro['ivl'], dendro['leaves_color_list'])\n",
    "        }\n",
    "        Gcc = nx.convert_node_labels_to_integers(Gcc)\n",
    "        print(len(Gcc))\n",
    "        node_colors = [leaf_label_colors[str(n)] if n < len(leaf_label_colors) else 'gray' for n in Gcc.nodes()]\n",
    "        ax[0][i].set_yscale('log')\n",
    "        tmin = linkage_matrix[:, 2][0] * 0.8\n",
    "        tmax = linkage_matrix[:, 2][-1] * 1.01\n",
    "        ax[0][i].axhline(FlatClusteringTh, color='b', linestyle='--', label=r'$\\mathcal{D}_{\\rm th}$')\n",
    "        ax[0][i].set_ylim(tmin, tmax)\n",
    "        #\n",
    "        ax[1][i].plot(tau_scale[:-1], speC, label=r'$C$',lw=3)\n",
    "        ax[1][i].set_xscale('log')\n",
    "        #\n",
    "        axins = inset_axes(\n",
    "            ax[1][i],\n",
    "            width=\"50%\",    # larghezza 30% dell'asse principale\n",
    "            height=\"60%\",   # altezza 30%\n",
    "            loc='upper right',\n",
    "        )\n",
    "        pos = nx.nx_agraph.graphviz_layout(Gcc)\n",
    "        nx.draw(\n",
    "            Gcc,\n",
    "            pos=pos,\n",
    "            ax=axins,\n",
    "            node_size=50,\n",
    "            alpha=0.75,\n",
    "            edgecolors='k',\n",
    "            node_color=node_colors\n",
    "        )\n",
    "        ax[0][i].set_title(phase, fontsize=30)\n",
    "        ax[1][i].set_xlabel(r'$\\tau$', fontsize=30)\n",
    "    ax[1][0].set_ylabel(r'$C$', fontsize=30)\n",
    "    ax[0][0].set_ylabel(r'$\\mathcal{D}/\\mathcal{D}_{max}$', fontsize=30)\n",
    "    fig.tight_layout()\n",
    "    fig.savefig(fig_path / f'{pat}_{band_name}_dendrogram.pdf', bbox_inches='tight', transparent=True)\n",
    "    plt.close('all')"
   ]
  },
  {
   "cell_type": "code",
   "execution_count": null,
   "id": "7ac841be",
   "metadata": {},
   "outputs": [],
   "source": []
  },
  {
   "cell_type": "code",
   "execution_count": null,
   "id": "f2e7bd44",
   "metadata": {},
   "outputs": [],
   "source": []
  }
 ],
 "metadata": {
  "kernelspec": {
   "display_name": "lapbrain",
   "language": "python",
   "name": "python3"
  },
  "language_info": {
   "codemirror_mode": {
    "name": "ipython",
    "version": 3
   },
   "file_extension": ".py",
   "mimetype": "text/x-python",
   "name": "python",
   "nbconvert_exporter": "python",
   "pygments_lexer": "ipython3",
   "version": "3.12.3"
  }
 },
 "nbformat": 4,
 "nbformat_minor": 5
}
