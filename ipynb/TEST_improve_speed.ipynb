{
 "cells": [
  {
   "cell_type": "code",
   "execution_count": 1,
   "id": "6bf3e3b2",
   "metadata": {},
   "outputs": [
    {
     "name": "stdout",
     "output_type": "stream",
     "text": [
      "Current working directory: /home/opisthofulax/Documents/research+/brain_network/lrg_eegfc\n"
     ]
    }
   ],
   "source": [
    "%matplotlib inline\n",
    "#\n",
    "from lrgsglib import *\n",
    "#\n",
    "move_to_rootf(pathname='lrg_eegfc')\n",
    "#\n",
    "from lrg_eegfc import *"
   ]
  },
  {
   "cell_type": "markdown",
   "id": "dcc219c8",
   "metadata": {},
   "source": [
    "### data reader"
   ]
  },
  {
   "cell_type": "code",
   "execution_count": 2,
   "id": "b850a91a",
   "metadata": {},
   "outputs": [],
   "source": [
    "data_dict, int_label_pos_map = load_data_dict(\n",
    "    mat_path, patients_list, phase_labels, param_keys_list\n",
    ")"
   ]
  },
  {
   "cell_type": "code",
   "execution_count": 3,
   "id": "7aa7801b",
   "metadata": {},
   "outputs": [],
   "source": [
    "patient = 'Pat_02'\n",
    "#\n",
    "data_pat = data_dict[patient]\n",
    "pin_labels = int_label_pos_map[patient]['label']\n",
    "#\n",
    "correlation_protocol = dict(threshold=0,spectral_cleaning=False)"
   ]
  },
  {
   "cell_type": "code",
   "execution_count": 4,
   "id": "86a19230",
   "metadata": {},
   "outputs": [
    {
     "name": "stderr",
     "output_type": "stream",
     "text": [
      "/home/opisthofulax/Documents/research+/brain_network/lrg_eegfc/lrgsglib/src/lrgsglib/utils/basic/signals.py:58: RuntimeWarning: Very narrow filter bandwidth (0.0034 of Nyquist). Consider reducing filter order or increasing bandwidth.\n",
      "  warnings.warn(\n",
      "/home/opisthofulax/Documents/research+/brain_network/lrg_eegfc/lrgsglib/src/lrgsglib/utils/basic/signals.py:58: RuntimeWarning: Very narrow filter bandwidth (0.0039 of Nyquist). Consider reducing filter order or increasing bandwidth.\n",
      "  warnings.warn(\n",
      "/home/opisthofulax/Documents/research+/brain_network/lrg_eegfc/lrgsglib/src/lrgsglib/utils/basic/signals.py:58: RuntimeWarning: Very narrow filter bandwidth (0.0049 of Nyquist). Consider reducing filter order or increasing bandwidth.\n",
      "  warnings.warn(\n"
     ]
    }
   ],
   "source": [
    "phase = 'rsPre'\n",
    "data_pat_phase = data_pat[phase]\n",
    "data_pat_phase_ts = data_pat_phase['data']\n",
    "fs = data_pat_phase['fs']\n",
    "G, label_dict, lnkgM, clTh, corr_mat = process_network_for_phase(data_pat_phase_ts, fs, 'delta', correlation_protocol, pin_labels)"
   ]
  },
  {
   "cell_type": "code",
   "execution_count": null,
   "id": "86f4a8bf",
   "metadata": {},
   "outputs": [],
   "source": []
  }
 ],
 "metadata": {
  "kernelspec": {
   "display_name": "lapbrain",
   "language": "python",
   "name": "python3"
  },
  "language_info": {
   "codemirror_mode": {
    "name": "ipython",
    "version": 3
   },
   "file_extension": ".py",
   "mimetype": "text/x-python",
   "name": "python",
   "nbconvert_exporter": "python",
   "pygments_lexer": "ipython3",
   "version": "3.12.3"
  }
 },
 "nbformat": 4,
 "nbformat_minor": 5
}
