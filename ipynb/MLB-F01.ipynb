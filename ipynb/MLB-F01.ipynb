{
 "cells": [
  {
   "cell_type": "code",
   "execution_count": 1,
   "id": "6236d120",
   "metadata": {},
   "outputs": [
    {
     "name": "stdout",
     "output_type": "stream",
     "text": [
      "Current working directory: /home/opisthofulax/Documents/research+/brain_network/lrg_eegfc\n"
     ]
    }
   ],
   "source": [
    "from lrgsglib import *\n",
    "#\n",
    "move_to_rootf(pathname='lrg_eegfc')\n",
    "#\n",
    "from lrg_eegfc import *\n",
    "#\n",
    "data_path = Path('data')\n",
    "fig_path = data_path / Path('figures')\n",
    "mat_path = Path('data') / 'stereoeeg_patients'\n",
    "#"
   ]
  },
  {
   "cell_type": "markdown",
   "id": "12c9be04",
   "metadata": {},
   "source": [
    "### Data loader"
   ]
  },
  {
   "cell_type": "code",
   "execution_count": 2,
   "id": "bd7142db",
   "metadata": {},
   "outputs": [],
   "source": [
    "data_dict, int_label_pos_map = load_data_dict(\n",
    "    mat_path, patients_list, phase_labels, param_keys_list\n",
    ")"
   ]
  },
  {
   "cell_type": "code",
   "execution_count": null,
   "id": "9ffb3328",
   "metadata": {},
   "outputs": [],
   "source": [
    "patient = 'Pat_02'\n",
    "phase = 'taskLearn'\n",
    "#\n",
    "corr_net_filt = dict(threshold=0)\n",
    "#\n",
    "data_pat_phase = data_dict[patient][phase]\n",
    "data_pat_phase_ts = data_pat_phase['data']\n",
    "fs = data_pat_phase['fs']\n",
    "filter_order = data_pat_phase['filter_order']"
   ]
  },
  {
   "cell_type": "code",
   "execution_count": null,
   "id": "27962d73",
   "metadata": {},
   "outputs": [],
   "source": [
    "# Use the function from corrmat module to build correlation matrices per band\n",
    "corr_mat_band_tw = build_corrmat_perband(\n",
    "    data_pat_phase_ts, \n",
    "    fs, \n",
    "    return_jump_info=False,\n",
    "    apply_threshold_filtering=False,\n",
    "    corr_network_params=corr_net_filt\n",
    ")"
   ]
  },
  {
   "cell_type": "code",
   "execution_count": null,
   "id": "997455ca",
   "metadata": {},
   "outputs": [],
   "source": [
    "fig, ax = plt.subplots(1, len(BRAIN_BANDS), figsize=(20, 6))\n",
    "#\n",
    "for i, (band_name, corr_mat) in enumerate(corr_mat_band_tw.items()):\n",
    "    G = nx.from_numpy_array(corr_mat)\n",
    "    #\n",
    "    widths = [ G[u][v]['weight'] for u, v in G.edges()]\n",
    "    edge_colors = ['red' if d['weight'] < 0 else 'blue' for u, v, d in G.edges(data=True)]\n",
    "    nx.draw(G, ax=ax[i], node_size=100, width=widths, edge_color=edge_colors, with_labels=True, labels=int_label_pos_map[patient]['label'],font_size=8)\n",
    "#\n",
    "# kwargs_imshow = dict(cmap='viridis', interpolation='none', vmin=C_tmp.min(), vmax=C_tmp.max())\n",
    "# im = ax[2].imshow(C_tmp, **kwargs_imshow)\n",
    "# div, cax, clb = imshow_colorbar_caxdivider(im, ax[2])"
   ]
  }
 ],
 "metadata": {
  "kernelspec": {
   "display_name": "lapbrain",
   "language": "python",
   "name": "python3"
  },
  "language_info": {
   "codemirror_mode": {
    "name": "ipython",
    "version": 3
   },
   "file_extension": ".py",
   "mimetype": "text/x-python",
   "name": "python",
   "nbconvert_exporter": "python",
   "pygments_lexer": "ipython3",
   "version": "3.12.3"
  }
 },
 "nbformat": 4,
 "nbformat_minor": 5
}
