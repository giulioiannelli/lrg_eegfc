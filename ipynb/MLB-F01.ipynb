{
 "cells": [
  {
   "cell_type": "code",
   "execution_count": 1,
   "id": "6236d120",
   "metadata": {},
   "outputs": [
    {
     "name": "stdout",
     "output_type": "stream",
     "text": [
      "Current working directory: /home/opisthofulax/Documents/research+/brain_network/lrg_eegfc\n"
     ]
    }
   ],
   "source": [
    "from lrgsglib import *\n",
    "#\n",
    "move_to_rootf(pathname='lrg_eegfc')\n",
    "#\n",
    "from lrg_eegfc import *\n",
    "#\n",
    "data_path = Path('data')\n",
    "fig_path = data_path / Path('figures')\n",
    "mat_path = Path('data') / 'stereoeeg_patients'\n",
    "#"
   ]
  },
  {
   "cell_type": "markdown",
   "id": "12c9be04",
   "metadata": {},
   "source": [
    "### Data loader"
   ]
  },
  {
   "cell_type": "code",
   "execution_count": 2,
   "id": "bd7142db",
   "metadata": {},
   "outputs": [],
   "source": [
    "data_dict, int_label_pos_map = load_data_dict(\n",
    "    mat_path, patients_list, phase_labels, param_keys_list\n",
    ")"
   ]
  },
  {
   "cell_type": "code",
   "execution_count": null,
   "id": "9ffb3328",
   "metadata": {},
   "outputs": [],
   "source": []
  }
 ],
 "metadata": {
  "kernelspec": {
   "display_name": "lapbrain",
   "language": "python",
   "name": "python3"
  },
  "language_info": {
   "codemirror_mode": {
    "name": "ipython",
    "version": 3
   },
   "file_extension": ".py",
   "mimetype": "text/x-python",
   "name": "python",
   "nbconvert_exporter": "python",
   "pygments_lexer": "ipython3",
   "version": "3.12.3"
  }
 },
 "nbformat": 4,
 "nbformat_minor": 5
}
