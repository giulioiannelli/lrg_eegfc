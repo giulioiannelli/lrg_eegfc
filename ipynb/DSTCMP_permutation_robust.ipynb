{
 "cells": [
  {
   "cell_type": "markdown",
   "metadata": {},
   "source": [
    "# Ultrametric Distance (Permutation Robust): Patient Comparison\n",
    "\n",
    "Compute permutation-robust ultrametric distances across phases for every patient, per EEG band.\n",
    "Plots show, for each band, permutation-robust distance matrices side-by-side for all patients.\n"
   ]
  },
  {
   "cell_type": "code",
   "execution_count": null,
   "metadata": {},
   "outputs": [
    {
     "name": "stdout",
     "output_type": "stream",
     "text": [
      "Current working directory: /home/opisthofulax/Documents/research+/brain_network/lrg_eegfc\n",
      "Patients: ['Pat_03', 'Pat_02']\n",
      "Phases: ['rsPre', 'taskLearn', 'taskTest', 'rsPost']\n",
      "Bands: ['delta', 'theta', 'alpha', 'beta', 'low_gamma', 'high_gamma']\n"
     ]
    }
   ],
   "source": [
    "%matplotlib inline\n",
    "#\n",
    "from lrgsglib import *\n",
    "#\n",
    "move_to_rootf(pathname='lrg_eegfc')\n",
    "#\n",
    "from lrg_eegfc import *\n",
    "# Figure output path\n",
    "path_figs = Path('data') / 'figures' / 'new_ultrametric_permutation_robust_pat_comparison'\n",
    "path_figs.mkdir(parents=True, exist_ok=True)\n",
    "#\n",
    "phase_labels = list(PHASE_LABELS)\n",
    "bands = list(BRAIN_BANDS.keys())\n",
    "patients = list(PATIENTS_LIST)\n",
    "#\n",
    "correlation_protocol = dict(filter_type='abs', spectral_cleaning=False)\n",
    "#\n",
    "print(f'Patients: {patients}')\n",
    "print(f'Phases: {phase_labels}')\n",
    "print(f'Bands: {bands}')"
   ]
  },
  {
   "cell_type": "markdown",
   "metadata": {},
   "source": [
    "## Load Data"
   ]
  },
  {
   "cell_type": "code",
   "execution_count": null,
   "metadata": {},
   "outputs": [
    {
     "ename": "KeyboardInterrupt",
     "evalue": "",
     "output_type": "error",
     "traceback": [
      "\u001b[0;31m---------------------------------------------------------------------------\u001b[0m",
      "\u001b[0;31mKeyboardInterrupt\u001b[0m                         Traceback (most recent call last)",
      "Cell \u001b[0;32mIn[2], line 1\u001b[0m\n\u001b[0;32m----> 1\u001b[0m data_dict, int_label_map \u001b[38;5;241m=\u001b[39m \u001b[43mload_data_dict\u001b[49m\u001b[43m(\u001b[49m\u001b[43m)\u001b[49m\n\u001b[1;32m      2\u001b[0m \u001b[38;5;28mprint\u001b[39m(\u001b[38;5;124m'\u001b[39m\u001b[38;5;124m✓ Data loaded\u001b[39m\u001b[38;5;124m'\u001b[39m)\n",
      "File \u001b[0;32m~/Documents/research+/brain_network/lrg_eegfc/src/lrg_eegfc/utils/datamanag/loaders.py:120\u001b[0m, in \u001b[0;36mload_data_dict\u001b[0;34m(mat_path, pat_list, phase_labels, param_keys_list)\u001b[0m\n\u001b[1;32m    118\u001b[0m \u001b[38;5;28;01mfor\u001b[39;00m phase \u001b[38;5;129;01min\u001b[39;00m phase_labels:\n\u001b[1;32m    119\u001b[0m     data_dict[pat][phase] \u001b[38;5;241m=\u001b[39m {}\n\u001b[0;32m--> 120\u001b[0m     tmp_mat \u001b[38;5;241m=\u001b[39m \u001b[43mload_mat_pat_data\u001b[49m\u001b[43m(\u001b[49m\u001b[43mpat\u001b[49m\u001b[43m,\u001b[49m\u001b[43m \u001b[49m\u001b[43mphase\u001b[49m\u001b[43m,\u001b[49m\u001b[43m \u001b[49m\u001b[43mmat_path\u001b[49m\u001b[43m)\u001b[49m\n\u001b[1;32m    122\u001b[0m     \u001b[38;5;66;03m# Extract data matrix and ensure samples are rows.\u001b[39;00m\n\u001b[1;32m    123\u001b[0m     arr \u001b[38;5;241m=\u001b[39m tmp_mat[\u001b[38;5;124m\"\u001b[39m\u001b[38;5;124mData\u001b[39m\u001b[38;5;124m\"\u001b[39m]\n",
      "File \u001b[0;32m~/Documents/research+/brain_network/lrg_eegfc/src/lrg_eegfc/utils/datamanag/loaders.py:49\u001b[0m, in \u001b[0;36mload_mat_pat_data\u001b[0;34m(patient, phase, mat_path)\u001b[0m\n\u001b[1;32m     47\u001b[0m path \u001b[38;5;241m=\u001b[39m mat_path \u001b[38;5;241m/\u001b[39m patient \u001b[38;5;241m/\u001b[39m \u001b[38;5;124mf\u001b[39m\u001b[38;5;124m\"\u001b[39m\u001b[38;5;132;01m{\u001b[39;00mphase\u001b[38;5;132;01m}\u001b[39;00m\u001b[38;5;124m.mat\u001b[39m\u001b[38;5;124m\"\u001b[39m\n\u001b[1;32m     48\u001b[0m \u001b[38;5;28;01mtry\u001b[39;00m:\n\u001b[0;32m---> 49\u001b[0m     \u001b[38;5;28;01mreturn\u001b[39;00m \u001b[43mloadmat\u001b[49m\u001b[43m(\u001b[49m\u001b[38;5;28;43mstr\u001b[39;49m\u001b[43m(\u001b[49m\u001b[43mpath\u001b[49m\u001b[43m)\u001b[49m\u001b[43m)\u001b[49m\n\u001b[1;32m     50\u001b[0m \u001b[38;5;28;01mexcept\u001b[39;00m \u001b[38;5;167;01mException\u001b[39;00m \u001b[38;5;28;01mas\u001b[39;00m exc:  \u001b[38;5;66;03m# noqa: BLE001 - broad fallback is intentional\u001b[39;00m\n\u001b[1;32m     51\u001b[0m     logging\u001b[38;5;241m.\u001b[39mwarning(\n\u001b[1;32m     52\u001b[0m         \u001b[38;5;124m\"\u001b[39m\u001b[38;5;124mFailed to load \u001b[39m\u001b[38;5;132;01m%s\u001b[39;00m\u001b[38;5;124m via scipy (\u001b[39m\u001b[38;5;132;01m%s\u001b[39;00m\u001b[38;5;124m). Using h5py fallback.\u001b[39m\u001b[38;5;124m\"\u001b[39m,\n\u001b[1;32m     53\u001b[0m         path,\n\u001b[1;32m     54\u001b[0m         \u001b[38;5;28mtype\u001b[39m(exc)\u001b[38;5;241m.\u001b[39m\u001b[38;5;18m__name__\u001b[39m,\n\u001b[1;32m     55\u001b[0m     )\n",
      "File \u001b[0;32m~/anaconda3/envs/lapbrain/lib/python3.12/site-packages/scipy/io/matlab/_mio.py:227\u001b[0m, in \u001b[0;36mloadmat\u001b[0;34m(file_name, mdict, appendmat, **kwargs)\u001b[0m\n\u001b[1;32m    225\u001b[0m \u001b[38;5;28;01mwith\u001b[39;00m _open_file_context(file_name, appendmat) \u001b[38;5;28;01mas\u001b[39;00m f:\n\u001b[1;32m    226\u001b[0m     MR, _ \u001b[38;5;241m=\u001b[39m mat_reader_factory(f, \u001b[38;5;241m*\u001b[39m\u001b[38;5;241m*\u001b[39mkwargs)\n\u001b[0;32m--> 227\u001b[0m     matfile_dict \u001b[38;5;241m=\u001b[39m \u001b[43mMR\u001b[49m\u001b[38;5;241;43m.\u001b[39;49m\u001b[43mget_variables\u001b[49m\u001b[43m(\u001b[49m\u001b[43mvariable_names\u001b[49m\u001b[43m)\u001b[49m\n\u001b[1;32m    229\u001b[0m \u001b[38;5;28;01mif\u001b[39;00m mdict \u001b[38;5;129;01mis\u001b[39;00m \u001b[38;5;129;01mnot\u001b[39;00m \u001b[38;5;28;01mNone\u001b[39;00m:\n\u001b[1;32m    230\u001b[0m     mdict\u001b[38;5;241m.\u001b[39mupdate(matfile_dict)\n",
      "File \u001b[0;32m~/anaconda3/envs/lapbrain/lib/python3.12/site-packages/scipy/io/matlab/_mio5.py:330\u001b[0m, in \u001b[0;36mMatFile5Reader.get_variables\u001b[0;34m(self, variable_names)\u001b[0m\n\u001b[1;32m    328\u001b[0m     \u001b[38;5;28;01mcontinue\u001b[39;00m\n\u001b[1;32m    329\u001b[0m \u001b[38;5;28;01mtry\u001b[39;00m:\n\u001b[0;32m--> 330\u001b[0m     res \u001b[38;5;241m=\u001b[39m \u001b[38;5;28;43mself\u001b[39;49m\u001b[38;5;241;43m.\u001b[39;49m\u001b[43mread_var_array\u001b[49m\u001b[43m(\u001b[49m\u001b[43mhdr\u001b[49m\u001b[43m,\u001b[49m\u001b[43m \u001b[49m\u001b[43mprocess\u001b[49m\u001b[43m)\u001b[49m\n\u001b[1;32m    331\u001b[0m \u001b[38;5;28;01mexcept\u001b[39;00m MatReadError \u001b[38;5;28;01mas\u001b[39;00m err:\n\u001b[1;32m    332\u001b[0m     warnings\u001b[38;5;241m.\u001b[39mwarn(\n\u001b[1;32m    333\u001b[0m         \u001b[38;5;124mf\u001b[39m\u001b[38;5;124m'\u001b[39m\u001b[38;5;124mUnreadable variable \u001b[39m\u001b[38;5;124m\"\u001b[39m\u001b[38;5;132;01m{\u001b[39;00mname\u001b[38;5;132;01m}\u001b[39;00m\u001b[38;5;124m\"\u001b[39m\u001b[38;5;124m, because \u001b[39m\u001b[38;5;124m\"\u001b[39m\u001b[38;5;132;01m{\u001b[39;00merr\u001b[38;5;132;01m}\u001b[39;00m\u001b[38;5;124m\"\u001b[39m\u001b[38;5;124m'\u001b[39m,\n\u001b[1;32m    334\u001b[0m         \u001b[38;5;167;01mWarning\u001b[39;00m, stacklevel\u001b[38;5;241m=\u001b[39m\u001b[38;5;241m2\u001b[39m)\n",
      "File \u001b[0;32m~/anaconda3/envs/lapbrain/lib/python3.12/site-packages/scipy/io/matlab/_mio5.py:290\u001b[0m, in \u001b[0;36mMatFile5Reader.read_var_array\u001b[0;34m(self, header, process)\u001b[0m\n\u001b[1;32m    273\u001b[0m \u001b[38;5;28;01mdef\u001b[39;00m \u001b[38;5;21mread_var_array\u001b[39m(\u001b[38;5;28mself\u001b[39m, header, process\u001b[38;5;241m=\u001b[39m\u001b[38;5;28;01mTrue\u001b[39;00m):\n\u001b[1;32m    274\u001b[0m \u001b[38;5;250m    \u001b[39m\u001b[38;5;124;03m''' Read array, given `header`\u001b[39;00m\n\u001b[1;32m    275\u001b[0m \n\u001b[1;32m    276\u001b[0m \u001b[38;5;124;03m    Parameters\u001b[39;00m\n\u001b[0;32m   (...)\u001b[0m\n\u001b[1;32m    288\u001b[0m \u001b[38;5;124;03m       `process`.\u001b[39;00m\n\u001b[1;32m    289\u001b[0m \u001b[38;5;124;03m    '''\u001b[39;00m\n\u001b[0;32m--> 290\u001b[0m     \u001b[38;5;28;01mreturn\u001b[39;00m \u001b[38;5;28;43mself\u001b[39;49m\u001b[38;5;241;43m.\u001b[39;49m\u001b[43m_matrix_reader\u001b[49m\u001b[38;5;241;43m.\u001b[39;49m\u001b[43marray_from_header\u001b[49m\u001b[43m(\u001b[49m\u001b[43mheader\u001b[49m\u001b[43m,\u001b[49m\u001b[43m \u001b[49m\u001b[43mprocess\u001b[49m\u001b[43m)\u001b[49m\n",
      "\u001b[0;31mKeyboardInterrupt\u001b[0m: "
     ]
    }
   ],
   "source": [
    "data_dict, int_label_map = load_data_dict()\n",
    "print('✓ Data loaded')"
   ]
  },
  {
   "cell_type": "markdown",
   "metadata": {},
   "source": [
    "## Build Ultrametric and Linkage Structures per Patient, Phase, Band"
   ]
  },
  {
   "cell_type": "code",
   "execution_count": null,
   "metadata": {},
   "outputs": [],
   "source": [
    "def compute_structures_for_patient(patient: str, filter_order: int = 1):\n",
    "    U = {b: {} for b in bands}\n",
    "    Z = {b: {} for b in bands}\n",
    "    D = {b: {} for b in bands}\n",
    "\n",
    "    pin_labels = int_label_map[patient]['label']\n",
    "\n",
    "    for phase in phase_labels:\n",
    "        data_pat_phase = data_dict[patient][phase]\n",
    "        data_pat_phase_ts = data_pat_phase['data']\n",
    "        fs_raw = data_pat_phase.get('fs', None)\n",
    "        fs = float(np.asarray(fs_raw).flat[0]) if fs_raw is not None else 1000.0\n",
    "\n",
    "        for band in bands:\n",
    "            G, label_dict, lnkgM, clTh, corr_mat, dists = process_network_for_phase(\n",
    "                data_pat_phase_ts, fs, band, correlation_protocol, pin_labels, filter_order=filter_order\n",
    "            )\n",
    "            if lnkgM is None or G is None:\n",
    "                U[band][phase] = None\n",
    "                Z[band][phase] = None\n",
    "                D[band][phase] = None\n",
    "                continue\n",
    "            try:\n",
    "                U[band][phase] = extract_ultrametric_matrix(lnkgM, G.number_of_nodes())\n",
    "            except Exception as e:\n",
    "                print(f'[WARN] {patient} {phase} {band}: failed to extract ultrametric ({e})')\n",
    "                U[band][phase] = None\n",
    "            Z[band][phase] = lnkgM\n",
    "            if isinstance(dists, dict):\n",
    "                D[band][phase] = dists.get('condensed')\n",
    "            else:\n",
    "                D[band][phase] = None\n",
    "    return U, Z, D\n",
    "\n",
    "ultra_by_pat = {}\n",
    "linkage_by_pat = {}\n",
    "condensed_by_pat = {}\n",
    "for pat in patients:\n",
    "    print(f'Computing ultrametric structures for {pat} ...')\n",
    "    U, Z, D = compute_structures_for_patient(pat)\n",
    "    ultra_by_pat[pat] = U\n",
    "    linkage_by_pat[pat] = Z\n",
    "    condensed_by_pat[pat] = D\n",
    "print('✓ Ultrametric structures computed for all patients')\n"
   ]
  },
  {
   "cell_type": "markdown",
   "metadata": {},
   "source": [
    "## Phase Distance Matrices per Patient, Band"
   ]
  },
  {
   "cell_type": "code",
   "execution_count": null,
   "metadata": {},
   "outputs": [],
   "source": [
    "metric = 'euclidean'\n",
    "results = {band: {} for band in bands}\n",
    "n = len(phase_labels)\n",
    "\n",
    "for band in bands:\n",
    "    for pat in patients:\n",
    "        dm = np.full((n, n), np.nan, dtype=float)\n",
    "        pin_labels = int_label_map[pat]['label']\n",
    "        for i, pi in enumerate(phase_labels):\n",
    "            for j, pj in enumerate(phase_labels):\n",
    "                if i == j:\n",
    "                    dm[i, j] = 0.0\n",
    "                    continue\n",
    "                Z1 = linkage_by_pat[pat][band].get(pi)\n",
    "                Z2 = linkage_by_pat[pat][band].get(pj)\n",
    "                D1 = condensed_by_pat[pat][band].get(pi)\n",
    "                D2 = condensed_by_pat[pat][band].get(pj)\n",
    "                if Z1 is None or Z2 is None or D1 is None or D2 is None:\n",
    "                    dm[i, j] = np.nan\n",
    "                else:\n",
    "                    dm[i, j] = ultrametric_distance_permutation_robust(Z1, Z2, D1, D2, pin_labels, metric=metric)\n",
    "        results[band][pat] = dm\n",
    "    print(f'Band {band}: ✓ done')\n",
    "\n",
    "print('✓ All phase-distance matrices computed')\n"
   ]
  },
  {
   "cell_type": "markdown",
   "metadata": {},
   "source": [
    "## Plot: Side-by-Side Patients per Band"
   ]
  },
  {
   "cell_type": "code",
   "execution_count": null,
   "metadata": {},
   "outputs": [],
   "source": [
    "def plot_band_side_by_side_permutation(band: str):\n",
    "    vmax = 0.0\n",
    "    for pat in patients:\n",
    "        m = results[band].get(pat)\n",
    "        if m is not None and np.isfinite(m).any():\n",
    "            vmax = max(vmax, np.nanmax(m))\n",
    "    if vmax == 0.0:\n",
    "        print(f'[SKIP] No finite values for {band}')\n",
    "        return\n",
    "\n",
    "    fig, axes = plt.subplots(1, len(patients), figsize=(4*len(patients)+2, 4), constrained_layout=True)\n",
    "    if len(patients) == 1:\n",
    "        axes = [axes]\n",
    "\n",
    "    cmap = plt.cm.viridis.copy()\n",
    "    cmap.set_bad(color='lightgray')\n",
    "\n",
    "    for ax, pat in zip(axes, patients):\n",
    "        M = results[band][pat]\n",
    "        im = ax.imshow(M, vmin=0.0, vmax=vmax, cmap=cmap, aspect='equal')\n",
    "        ax.set_title(f\"{pat}\")\n",
    "        ax.set_xticks(range(len(phase_labels)))\n",
    "        ax.set_yticks(range(len(phase_labels)))\n",
    "        ax.set_xticklabels(phase_labels, rotation=45, ha='right')\n",
    "        ax.set_yticklabels(phase_labels)\n",
    "        for spine in ax.spines.values():\n",
    "            spine.set_visible(False)\n",
    "\n",
    "    cbar = fig.colorbar(im, ax=axes, shrink=0.85)\n",
    "    cbar.set_label('Permutation-robust distance')\n",
    "    outdir = path_figs / band\n",
    "    outdir.mkdir(parents=True, exist_ok=True)\n",
    "    outfile = outdir / 'permutation_robust.png'\n",
    "    fig.savefig(outfile, dpi=200, bbox_inches='tight')\n",
    "    plt.show()\n",
    "    print(f'Saved: {outfile}')\n",
    "\n",
    "for band in bands:\n",
    "    plot_band_side_by_side_permutation(band)\n",
    "\n",
    "print('✓ All figures generated')\n"
   ]
  },
  {
   "cell_type": "code",
   "execution_count": null,
   "metadata": {},
   "outputs": [],
   "source": []
  }
 ],
 "metadata": {
  "kernelspec": {
   "display_name": "lapbrain",
   "language": "python",
   "name": "python3"
  },
  "language_info": {
   "codemirror_mode": {
    "name": "ipython",
    "version": 3
   },
   "file_extension": ".py",
   "mimetype": "text/x-python",
   "name": "python",
   "nbconvert_exporter": "python",
   "pygments_lexer": "ipython3",
   "version": "3.12.3"
  }
 },
 "nbformat": 4,
 "nbformat_minor": 5
}
