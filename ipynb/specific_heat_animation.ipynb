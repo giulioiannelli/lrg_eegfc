{
 "cells": [
  {
   "cell_type": "code",
   "execution_count": 1,
   "id": "1a659a23",
   "metadata": {},
   "outputs": [
    {
     "name": "stdout",
     "output_type": "stream",
     "text": [
      "Current working directory: /home/opisthofulax/Documents/research+/brain_network/lrg_eegfc\n"
     ]
    }
   ],
   "source": [
    "from lrgsglib import *\n",
    "#\n",
    "move_to_rootf(pathname='lrg_eegfc')\n",
    "#\n",
    "from src.lrg_eegfc import *"
   ]
  },
  {
   "cell_type": "markdown",
   "id": "b7f4cd5c",
   "metadata": {},
   "source": [
    "### Data loading"
   ]
  },
  {
   "cell_type": "code",
   "execution_count": 2,
   "id": "e0025445",
   "metadata": {},
   "outputs": [],
   "source": [
    "data_dict, int_label_pos_map = load_data_dict(mat_path, patients_list, phase_labels, param_keys_list)"
   ]
  },
  {
   "cell_type": "markdown",
   "id": "c9f87a2b",
   "metadata": {},
   "source": [
    "### Per Patient, phase snapshots"
   ]
  },
  {
   "cell_type": "code",
   "execution_count": 3,
   "id": "3fcb5954",
   "metadata": {},
   "outputs": [
    {
     "data": {
      "text/plain": [
       "(100, 13232)"
      ]
     },
     "execution_count": 3,
     "metadata": {},
     "output_type": "execute_result"
    }
   ],
   "source": [
    "patient = 'Pat_02'\n",
    "phase = 'rsPre'\n",
    "#\n",
    "corr_net_filt = dict(threshold=0)\n",
    "#\n",
    "data_pat_phase = data_dict[patient][phase]\n",
    "data_pat_phase_ts = data_pat_phase['data']\n",
    "fs = data_pat_phase['fs']\n",
    "filter_order = data_pat_phase['filter_order']\n",
    "#\n",
    "n_intervals = 100\n",
    "interval_length = int(data_pat_phase_ts.shape[1] // n_intervals)\n",
    "n_intervals, interval_length"
   ]
  },
  {
   "cell_type": "code",
   "execution_count": 4,
   "id": "54da7540",
   "metadata": {},
   "outputs": [
    {
     "name": "stderr",
     "output_type": "stream",
     "text": [
      "  0%|          | 0/6 [00:00<?, ?it/s]/home/opisthofulax/anaconda3/envs/lapbrain/lib/python3.12/site-packages/scipy/signal/_filter_design.py:4334: RuntimeWarning: overflow encountered in scalar negative\n",
      "  m = numpy.arange(-N+1, N, 2)\n",
      "100%|██████████| 6/6 [00:19<00:00,  3.23s/it]\n"
     ]
    }
   ],
   "source": [
    "corr_mat_band_tw = {}\n",
    "for band_name, (low, high) in tqdm(BRAIN_BANDS.items()):\n",
    "    corr_mat_band_tw[band_name] = {}\n",
    "    for i in range(n_intervals):\n",
    "        start = i * interval_length\n",
    "        end = (i + 1) * interval_length\n",
    "        interval_data = data_pat_phase_ts[:, start:end]\n",
    "        filter_data = bandpass_sos(interval_data, low, high, fs, filter_order)\n",
    "        corr_mat = build_corr_network(filter_data, **corr_net_filt)\n",
    "        corr_mat_band_tw[band_name][i] = corr_mat"
   ]
  },
  {
   "cell_type": "code",
   "execution_count": 5,
   "id": "edd0a660",
   "metadata": {},
   "outputs": [],
   "source": [
    "corr_nets = {band_name: {i: nx.from_numpy_array(corr_mat_band_tw[band_name][i]) for i in range(n_intervals)} for band_name, (low, high) in tqdm(BRAIN_BANDS.items())}\n",
    "\n",
    "corr_nets_th = {band_name: {i: threshold_graph(G0, 0.9) for i, G0 in corr_nets[band_name].items()} for band_name in corr_nets.keys()}\n",
    "clear_output()"
   ]
  },
  {
   "cell_type": "code",
   "execution_count": 6,
   "id": "192c4cca",
   "metadata": {},
   "outputs": [
    {
     "name": "stderr",
     "output_type": "stream",
     "text": [
      "/home/opisthofulax/Documents/research+/brain_network/lrg_eegfc/lrgsglib/src/lrgsglib/utils/lrg/infocomm.py:91: RuntimeWarning: divide by zero encountered in log\n",
      "  S[i] = -np.nansum(rho * np.log(rho)) / np.log(N)\n",
      "/home/opisthofulax/Documents/research+/brain_network/lrg_eegfc/lrgsglib/src/lrgsglib/utils/lrg/infocomm.py:91: RuntimeWarning: invalid value encountered in multiply\n",
      "  S[i] = -np.nansum(rho * np.log(rho)) / np.log(N)\n"
     ]
    }
   ],
   "source": [
    "# 1. collect your data pairs (t1, dS1) for each time step into a list\n",
    "data_list = []\n",
    "for i, arr in corr_nets_th['delta'].items():\n",
    "    Gcc, _ = get_giant_component_leftoff(arr[1])\n",
    "    _, dS1, _, t1 = entropy(Gcc)\n",
    "    data_list.append((t1[1:], dS1))"
   ]
  },
  {
   "cell_type": "code",
   "execution_count": 7,
   "id": "29c04f8e",
   "metadata": {},
   "outputs": [
    {
     "data": {
      "image/png": "[encoded data removed]",
      "text/plain": [
       "<Figure size 640x480 with 1 Axes>"
      ]
     },
     "metadata": {},
     "output_type": "display_data"
    }
   ],
   "source": [
    "# 2. define a common abscissa on log‐scale\n",
    "t_grid = np.unique(np.concatenate([t for t, _ in data_list]))\n",
    "t_log = np.log(t_grid)\n",
    "\n",
    "# 3. interpolate all curves onto t_grid\n",
    "dS_interp = []\n",
    "for t, dS in data_list:\n",
    "    x = np.log(t)\n",
    "    y = dS\n",
    "    dS_interp.append(np.interp(t_log, x, y))\n",
    "\n",
    "# 4. build intermediate frames for smooth transitions\n",
    "M = 10  # number of sub‐frames between each pair\n",
    "frames = []\n",
    "for k in range(len(dS_interp) - 1):\n",
    "    a = dS_interp[k]\n",
    "    b = dS_interp[k+1]\n",
    "    for m in range(M):\n",
    "        alpha = m / M\n",
    "        frames.append((1 - alpha) * a + alpha * b)\n",
    "frames.append(dS_interp[-1])  # final frame\n",
    "\n",
    "# 5. set up figure and line object\n",
    "fig, ax = plt.subplots()\n",
    "line, = ax.plot([], [], lw=2)\n",
    "ax.set_xscale('log')\n",
    "ax.set_xlim(t_grid.min(), t_grid.max())\n",
    "ax.set_ylim(np.min(dS_interp), np.max(dS_interp))\n",
    "ax.set_xlabel('t')\n",
    "ax.set_ylabel('dS')\n",
    "\n",
    "# 6. animation update\n",
    "def update(frame_data):\n",
    "    line.set_data(t_grid, frame_data)\n",
    "    return (line,)\n",
    "\n",
    "ani = FuncAnimation(fig, update, frames=frames, interval=100, blit=True)\n",
    "\n",
    "# 7. save\n",
    "ani.save('entropy_evolution.mp4', writer='ffmpeg', fps=10)"
   ]
  }
 ],
 "metadata": {
  "kernelspec": {
   "display_name": "lapbrain",
   "language": "python",
   "name": "python3"
  },
  "language_info": {
   "codemirror_mode": {
    "name": "ipython",
    "version": 3
   },
   "file_extension": ".py",
   "mimetype": "text/x-python",
   "name": "python",
   "nbconvert_exporter": "python",
   "pygments_lexer": "ipython3",
   "version": "3.12.3"
  }
 },
 "nbformat": 4,
 "nbformat_minor": 5
}
