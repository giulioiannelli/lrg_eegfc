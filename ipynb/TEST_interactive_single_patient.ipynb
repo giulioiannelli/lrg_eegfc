{
 "cells": [
  {
   "cell_type": "code",
   "execution_count": 1,
   "id": "fddce776",
   "metadata": {},
   "outputs": [
    {
     "name": "stdout",
     "output_type": "stream",
     "text": [
      "Current working directory: /home/opisthofulax/Documents/research+/brain_network/lrg_eegfc\n"
     ]
    }
   ],
   "source": [
    "%matplotlib inline\n",
    "#\n",
    "from lrgsglib import *\n",
    "#\n",
    "move_to_rootf(pathname='lrg_eegfc')\n",
    "#\n",
    "from lrg_eegfc import *\n",
    "from ipywidgets import interact, FloatSlider"
   ]
  },
  {
   "cell_type": "markdown",
   "id": "10fe976f",
   "metadata": {},
   "source": [
    "### data reader"
   ]
  },
  {
   "cell_type": "code",
   "execution_count": 2,
   "id": "960319c3",
   "metadata": {},
   "outputs": [],
   "source": [
    "data_dict, int_label_pos_map = load_data_dict(\n",
    "    mat_path, patients_list, phase_labels, param_keys_list\n",
    ")"
   ]
  },
  {
   "cell_type": "markdown",
   "id": "a933073b",
   "metadata": {},
   "source": [
    "### interactive multiscale clustering"
   ]
  },
  {
   "cell_type": "code",
   "execution_count": 3,
   "id": "00015e6b",
   "metadata": {},
   "outputs": [],
   "source": [
    "patient = 'Pat_02'\n",
    "phase = 'rsPre'"
   ]
  },
  {
   "cell_type": "code",
   "execution_count": 4,
   "id": "381a06fc",
   "metadata": {},
   "outputs": [],
   "source": [
    "correlation_protocol = dict(threshold=0,spectral_cleaning=False)\n",
    "#\n",
    "data_pat_phase = data_dict[patient][phase]\n",
    "data_pat_phase_ts = data_pat_phase['data']\n",
    "fs = data_pat_phase['fs']\n",
    "filter_order = data_pat_phase['filter_order']\n",
    "pin_labels = int_label_pos_map[patient]['label']"
   ]
  },
  {
   "cell_type": "code",
   "execution_count": 5,
   "id": "92ce6fd2",
   "metadata": {},
   "outputs": [],
   "source": [
    "# plot settings\n",
    "kw_thline = dict(color='b', linestyle='--', label=r'$\\mathcal{D}_{\\rm th}$')\n",
    "kw_draw_graph = dict(node_size=100, font_size=8, with_labels=True)\n",
    "kw_dentro = dict(above_threshold_color='k', leaf_font_size=5, orientation='top')"
   ]
  },
  {
   "cell_type": "code",
   "execution_count": 6,
   "id": "6d084ba0",
   "metadata": {},
   "outputs": [],
   "source": [
    "custom_th = None\n",
    "jump_num = 0\n",
    "# Build correlation matrix and find threshold jumps\n",
    "corr_mat = build_corr_network(data_pat_phase_ts, **correlation_protocol)\n",
    "Th, jumps = find_threshold_jumps(nx.from_numpy_array(corr_mat))\n",
    "# Select threshold just below the selected jump and get the giant component\n",
    "cm_tmp = corr_mat.copy()\n",
    "cm_tmp[cm_tmp < Th[jumps[jump_num]]] = 0\n",
    "G, rnodes = get_giant_component_leftoff(nx.from_numpy_array(cm_tmp))\n",
    "label_dict = {k: v for k, v in pin_labels.to_dict().items() if k not in rnodes}\n",
    "# Compute the linkage matrix and optimal threshold\n",
    "spect, L, rho, Trho, tau = compute_laplacian_properties(G, tau=None)\n",
    "dists = squareform(Trho)\n",
    "lnkgM, label_list, _ = compute_normalized_linkage(dists, G, method='ward')\n",
    "clTh, *_ = compute_optimal_threshold(lnkgM, scaling_factor=0.98)\n",
    "clTh = custom_th or clTh\n",
    "# Prepare for plotting\n",
    "node_list = list(G.nodes())\n",
    "labels_for_dendro = [label_dict[n] for n in node_list]\n",
    "widths = [G[u][v]['weight'] for u, v in G.edges()]\n",
    "edge_colors = ['r' if d['weight'] < 0 else 'b' for _,_,d in G.edges(data=True)]"
   ]
  },
  {
   "cell_type": "code",
   "execution_count": null,
   "id": "af9968c2",
   "metadata": {},
   "outputs": [],
   "source": [
    "# Plotting function\n",
    "def plot_dendro_and_graph(clTh):\n",
    "    fig, ax = plt.subplots(1, 2, figsize=(15, 7.5))\n",
    "    \n",
    "    # Dendrogram first (to get the leaf colors)\n",
    "    dendro = dendrogram(\n",
    "        lnkgM,\n",
    "        ax=ax[0],\n",
    "        color_threshold=clTh,\n",
    "        labels=labels_for_dendro,\n",
    "        **kw_dentro\n",
    "    )\n",
    "    tmin = lnkgM[:, 2][0] * 0.8\n",
    "    tmax = lnkgM[:, 2][-1] * 1.01\n",
    "    ax[0].set_yscale('log')\n",
    "    ax[0].axhline(clTh, **kw_thline)\n",
    "    ax[0].set_ylim(tmin, tmax)\n",
    "    # ax[0].set_ylabel(r'$\\\\mathcal{D}/\\\\mathcal{D}_{max}$')\n",
    "    \n",
    "    # Get the leaf colors from dendrogram and map to nodes\n",
    "    leaf_label_colors = {lbl: col for lbl, col in zip(dendro['ivl'], dendro['leaves_color_list'])}\n",
    "    \n",
    "    # Map node colors based on dendrogram leaf colors\n",
    "    node_colors = [leaf_label_colors.get(label_dict[n], 'gray') for n in node_list]\n",
    "    \n",
    "    pos = nx.kamada_kawai_layout(G)\n",
    "    \n",
    "    # Network plot\n",
    "    # pos = nx.kamada_kawai_layout(G)\n",
    "    nx.draw(G, ax=ax[1], width=widths, edge_color=edge_colors,\n",
    "            labels=label_dict,\n",
    "            node_color=node_colors, pos=pos, **kw_draw_graph)\n",
    "    plt.show()\n",
    "# Logarithmic slider for clTh\n",
    "def log_slider_to_clTh(log_clTh):\n",
    "    return 10**log_clTh\n",
    "# \n",
    "min_th = lnkgM[:, 2][0]\n",
    "max_th = lnkgM[:, 2][-1]\n",
    "min_exp = np.log10(min_th)\n",
    "max_exp = np.log10(max_th)\n",
    "#\n",
    "log_slider = FloatSlider(\n",
    "    value=np.log10(clTh),\n",
    "    min=min_exp,\n",
    "    max=max_exp,\n",
    "    step=(max_exp - min_exp) / 100,\n",
    "    description='log10(clTh)',\n",
    "    readout_format='.2f'\n",
    "    )\n",
    "#"
   ]
  },
  {
   "cell_type": "code",
   "execution_count": 8,
   "id": "5f4d8519",
   "metadata": {},
   "outputs": [
    {
     "data": {
      "application/vnd.jupyter.widget-view+json": {
       "model_id": "23a5d98c9fca4d25bcd8bb45cb385cfc",
       "version_major": 2,
       "version_minor": 0
      },
      "text/plain": [
       "interactive(children=(FloatSlider(value=-6.240624493197499, description='log10(clTh)', max=-0.0043213737826426…"
      ]
     },
     "metadata": {},
     "output_type": "display_data"
    },
    {
     "data": {
      "text/plain": [
       "<function __main__.<lambda>(log_clTh)>"
      ]
     },
     "execution_count": 8,
     "metadata": {},
     "output_type": "execute_result"
    }
   ],
   "source": [
    "interact(lambda log_clTh: plot_dendro_and_graph(log_slider_to_clTh(log_clTh)), log_clTh=log_slider)"
   ]
  }
 ],
 "metadata": {
  "kernelspec": {
   "display_name": "lapbrain",
   "language": "python",
   "name": "python3"
  },
  "language_info": {
   "codemirror_mode": {
    "name": "ipython",
    "version": 3
   },
   "file_extension": ".py",
   "mimetype": "text/x-python",
   "name": "python",
   "nbconvert_exporter": "python",
   "pygments_lexer": "ipython3",
   "version": "3.12.3"
  }
 },
 "nbformat": 4,
 "nbformat_minor": 5
}
